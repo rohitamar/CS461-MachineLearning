{
 "cells": [
  {
   "cell_type": "code",
   "execution_count": 1,
   "id": "4de5939e",
   "metadata": {},
   "outputs": [],
   "source": [
    "import math\n",
    "import numpy as np\n",
    "from collections import defaultdict\n",
    "import matplotlib.pyplot as plt\n",
    "import copy"
   ]
  },
  {
   "cell_type": "code",
   "execution_count": 2,
   "id": "69c08e03",
   "metadata": {},
   "outputs": [],
   "source": [
    "def cov(x, y):\n",
    "    #definition of cov(x, y) = E[xy] - E[x]E[y]\n",
    "    return np.mean(x * y) - np.mean(x) * np.mean(y)\n",
    "\n",
    "def corr(x, y):\n",
    "    #corr(x, y) = cov(x, y) / sqrt(var(x) * var(y))\n",
    "    #var(y) == 0 --> this edge case is checked in the decision tree algorithm\n",
    "    #var(y) == 0 --> implies very high correlation in that set of data\n",
    "    #var(x) == 0 --> implies very low correlation in that set of data (hence we return 0 on this)\n",
    "    if np.var(x) == 0:\n",
    "        return 0\n",
    "    return cov(x, y) / math.sqrt(np.var(x) * np.var(y))\n",
    "\n",
    "def generate_data(size, d):\n",
    "    x = []\n",
    "    x.append(np.random.normal(3, 1, size))\n",
    "    x.append(np.random.normal(-2, 1, size))\n",
    "    x.append(x[0] + 2 * x[1])\n",
    "    x.append((x[1] + 2)**2)\n",
    "    x.append(np.random.binomial(n=1, p=0.8, size=size))\n",
    "    for _ in range(d - 5):\n",
    "        x.append(np.random.normal(0, 0.1, size))\n",
    "\n",
    "    def compute_y(x):\n",
    "        y = 4 - 3 * x[0] * x[0] + x[2] - 0.01 * x[3] + x[1] * x[4] + np.random.normal(0, 0.1, len(x[0]))\n",
    "        return y\n",
    "    \n",
    "    def transpose(temp):\n",
    "        temp = np.array(temp)\n",
    "        return temp.T\n",
    "    \n",
    "    xt = transpose(x)\n",
    "    y = compute_y(x)\n",
    "    \n",
    "    return x, xt, y"
   ]
  },
  {
   "cell_type": "code",
   "execution_count": 3,
   "id": "37febfbb",
   "metadata": {},
   "outputs": [],
   "source": [
    "class DecisionTree():   \n",
    "    superfluous = defaultdict(int)\n",
    "    def __init__(self, x, y, d, max_depth, min_sample_size):\n",
    "        self.x = x\n",
    "        self.y = y\n",
    "        \n",
    "        self.max_depth = max_depth\n",
    "        self.min_sample_size = min_sample_size\n",
    "        self.depth = d \n",
    "        self.child = len(self.x[0]) <= self.min_sample_size or self.depth == self.max_depth or np.var(y) == 0\n",
    "        \n",
    "        self.ind = -1\n",
    "        self.threshold = 0\n",
    "        \n",
    "        self.result = np.mean(y)\n",
    "        self.left, self.right = None, None\n",
    "\n",
    "        if not self.child:\n",
    "            self.split()\n",
    "    \n",
    "    def find_best_feature(self):\n",
    "        all_corr = [abs(corr(xi, self.y)) for xi in self.x]\n",
    "        return np.argmax(all_corr)\n",
    "    \n",
    "    def find_threshold_split(self, ind):\n",
    "        indices = self.x[ind].argsort()\n",
    "        \n",
    "        for i in range(len(self.x)):\n",
    "            self.x[i] = self.x[i][indices]\n",
    "        self.y = self.y[indices]\n",
    "        \n",
    "        threshold = -1\n",
    "        mn = float('inf')\n",
    "\n",
    "        for i in range(len(self.y) - 1):\n",
    "            fltr_left = self.x[ind] <= self.x[ind][i]\n",
    "            fltr_right = self.x[ind] > self.x[ind][i]\n",
    "            \n",
    "            var_left = np.var(self.y[fltr_left])\n",
    "            var_right = np.var(self.y[fltr_right])\n",
    "            \n",
    "            left = np.sum(fltr_left)\n",
    "            right = np.sum(fltr_right)\n",
    "\n",
    "            err_left = left / len(self.y) * var_left\n",
    "            err_right = right / len(self.y) * var_right\n",
    "            \n",
    "            err = err_left + err_right\n",
    "            \n",
    "            if err < mn:\n",
    "                threshold, mn = (self.x[ind][i] + self.x[ind][i + 1]) / 2, err\n",
    "        return threshold\n",
    "    \n",
    "     \n",
    "    def split(self):\n",
    "        self.ind = self.find_best_feature()\n",
    "        self.superfluous[self.ind] += 1\n",
    "\n",
    "        self.threshold = self.find_threshold_split(self.ind)\n",
    "\n",
    "        fltr_left = self.x[self.ind] <= self.threshold\n",
    "        fltr_right = self.x[self.ind] > self.threshold\n",
    "                \n",
    "        x_left = [arr[fltr_left] for arr in self.x]\n",
    "        x_right = [arr[fltr_right] for arr in self.x]\n",
    "            \n",
    "        y_left = self.y[fltr_left]\n",
    "        y_right = self.y[fltr_right]\n",
    "        \n",
    "        self.left = DecisionTree(x_left, y_left, self.depth + 1, self.max_depth, self.min_sample_size)\n",
    "        self.right = DecisionTree(x_right, y_right, self.depth + 1, self.max_depth, self.min_sample_size)\n",
    "\n",
    "    @staticmethod\n",
    "    def predict(node, arr):\n",
    "        if node.child:\n",
    "            return node.result\n",
    "        if arr[node.ind] <= node.threshold:\n",
    "            return DecisionTree.predict(node.left, arr)\n",
    "        else:\n",
    "            return DecisionTree.predict(node.right, arr)"
   ]
  },
  {
   "cell_type": "code",
   "execution_count": 4,
   "id": "0dbd5fe1",
   "metadata": {},
   "outputs": [],
   "source": [
    "def compute_mse_dt(x, y, dt):\n",
    "    err = 0 #error\n",
    "    for i in range(len(y)):\n",
    "        yp = DecisionTree.predict(dt, x[i]) #get prediction from decision tree\n",
    "        err += (abs(yp - y[i]) ** 2) #add squared error\n",
    "    err = err / len(y) #take mean of squared error\n",
    "    return err"
   ]
  },
  {
   "cell_type": "code",
   "execution_count": 9,
   "id": "d67a934c",
   "metadata": {},
   "outputs": [],
   "source": [
    "TRAIN_SIZE = 10000\n",
    "TEST_SIZE = 1000\n",
    "D = 10\n",
    "def question1():\n",
    "    x, xt, y = generate_data(TRAIN_SIZE, D)\n",
    "    _, tx, testy = generate_data(TEST_SIZE, D)\n",
    "    #constant model = the mean of y values (explained in pdf)\n",
    "    optimal_c = np.mean(y)\n",
    "    \n",
    "    #function that computes the MSE of a given constant model\n",
    "    def compute_mse_constant_model(y, c):\n",
    "        err = 0\n",
    "        for i in range(len(y)):\n",
    "            err += (c - y[i]) ** 2\n",
    "        err = err / len(y) #take average of squared sum\n",
    "        return err\n",
    "    \n",
    "    #Find the errors of both training and testing\n",
    "    training_error = compute_mse_constant_model(y, optimal_c)\n",
    "    testing_error = compute_mse_constant_model(testy, optimal_c)\n",
    "    \n",
    "    #Print errors\n",
    "    print('Training Error: ', training_error)\n",
    "    print('Testing Error: ', testing_error)\n",
    "  \n",
    "    return training_error, testing_error"
   ]
  },
  {
   "cell_type": "code",
   "execution_count": 18,
   "id": "9d186afc",
   "metadata": {},
   "outputs": [
    {
     "name": "stdout",
     "output_type": "stream",
     "text": [
      "Training Error:  321.99924730793754\n",
      "Testing Error:  287.265332497151\n"
     ]
    },
    {
     "data": {
      "text/plain": [
       "(321.99924730793754, 287.265332497151)"
      ]
     },
     "execution_count": 18,
     "metadata": {},
     "output_type": "execute_result"
    }
   ],
   "source": [
    "question1()"
   ]
  },
  {
   "cell_type": "code",
   "execution_count": null,
   "id": "833cf1ea",
   "metadata": {},
   "outputs": [],
   "source": []
  },
  {
   "cell_type": "code",
   "execution_count": null,
   "id": "eaf3a022",
   "metadata": {},
   "outputs": [],
   "source": []
  }
 ],
 "metadata": {
  "kernelspec": {
   "display_name": "Python 3 (ipykernel)",
   "language": "python",
   "name": "python3"
  },
  "language_info": {
   "codemirror_mode": {
    "name": "ipython",
    "version": 3
   },
   "file_extension": ".py",
   "mimetype": "text/x-python",
   "name": "python",
   "nbconvert_exporter": "python",
   "pygments_lexer": "ipython3",
   "version": "3.9.7"
  }
 },
 "nbformat": 4,
 "nbformat_minor": 5
}
