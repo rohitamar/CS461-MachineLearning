{
 "cells": [
  {
   "cell_type": "code",
   "execution_count": 3,
   "id": "368c3dc1",
   "metadata": {},
   "outputs": [],
   "source": [
    "import math\n",
    "import numpy as np\n",
    "def generate_data(size, d, trans = False):\n",
    "    assert size > 0 and d > 5\n",
    "    x = []\n",
    "    x.append(np.ones(size))\n",
    "    x.append(np.random.normal(3, 1, size))\n",
    "    x.append(np.random.normal(-2, 1, size))\n",
    "    x.append(x[0] + 2 * x[1])\n",
    "    x.append((x[1] + 2)**2)\n",
    "    x.append(np.random.binomial(n=1, p=0.8, size=size))\n",
    "    for _ in range(d - 5):\n",
    "        x.append(np.random.normal(0, 0.1, size))\n",
    "    xnp = np.array(x)\n",
    "    return xnp.T if trans else xnp"
   ]
  },
  {
   "cell_type": "code",
   "execution_count": 4,
   "id": "cf85e064",
   "metadata": {},
   "outputs": [],
   "source": [
    "X = generate_data(10000, 10)"
   ]
  },
  {
   "cell_type": "code",
   "execution_count": 5,
   "id": "17685650",
   "metadata": {},
   "outputs": [
    {
     "data": {
      "text/plain": [
       "numpy.ndarray"
      ]
     },
     "execution_count": 5,
     "metadata": {},
     "output_type": "execute_result"
    }
   ],
   "source": [
    "type(X)"
   ]
  },
  {
   "cell_type": "code",
   "execution_count": 6,
   "id": "49cc8c31",
   "metadata": {},
   "outputs": [
    {
     "data": {
      "text/plain": [
       "array([[ 1.00000000e+00,  1.00000000e+00,  1.00000000e+00, ...,\n",
       "         1.00000000e+00,  1.00000000e+00,  1.00000000e+00],\n",
       "       [ 2.10356829e+00,  3.30841288e+00,  3.77181956e+00, ...,\n",
       "         3.69997718e+00, -3.87390292e-03,  3.24456124e+00],\n",
       "       [-1.85522951e+00, -4.19607698e+00, -8.61761538e-01, ...,\n",
       "        -3.38377711e-01, -1.59706893e+00, -1.93237680e+00],\n",
       "       ...,\n",
       "       [-3.73513407e-02, -3.86698403e-02,  1.26539927e-01, ...,\n",
       "         1.17661589e-01, -1.48047573e-01,  1.57629462e-01],\n",
       "       [ 1.56976867e-01,  3.18981366e-02,  1.67078940e-01, ...,\n",
       "        -4.55023868e-03, -5.77930140e-02,  6.86379132e-02],\n",
       "       [-1.35793379e-01, -8.27085909e-02,  2.61349812e-02, ...,\n",
       "         9.01841512e-02, -4.80885967e-02, -5.03105861e-02]])"
      ]
     },
     "execution_count": 6,
     "metadata": {},
     "output_type": "execute_result"
    }
   ],
   "source": [
    "X"
   ]
  },
  {
   "cell_type": "code",
   "execution_count": 7,
   "id": "0a0ffb79",
   "metadata": {},
   "outputs": [
    {
     "data": {
      "text/plain": [
       "array([[ 1.00000000e+00,  2.10356829e+00, -1.85522951e+00, ...,\n",
       "        -3.73513407e-02,  1.56976867e-01, -1.35793379e-01],\n",
       "       [ 1.00000000e+00,  3.30841288e+00, -4.19607698e+00, ...,\n",
       "        -3.86698403e-02,  3.18981366e-02, -8.27085909e-02],\n",
       "       [ 1.00000000e+00,  3.77181956e+00, -8.61761538e-01, ...,\n",
       "         1.26539927e-01,  1.67078940e-01,  2.61349812e-02],\n",
       "       ...,\n",
       "       [ 1.00000000e+00,  3.69997718e+00, -3.38377711e-01, ...,\n",
       "         1.17661589e-01, -4.55023868e-03,  9.01841512e-02],\n",
       "       [ 1.00000000e+00, -3.87390292e-03, -1.59706893e+00, ...,\n",
       "        -1.48047573e-01, -5.77930140e-02, -4.80885967e-02],\n",
       "       [ 1.00000000e+00,  3.24456124e+00, -1.93237680e+00, ...,\n",
       "         1.57629462e-01,  6.86379132e-02, -5.03105861e-02]])"
      ]
     },
     "execution_count": 7,
     "metadata": {},
     "output_type": "execute_result"
    }
   ],
   "source": [
    "X.T"
   ]
  },
  {
   "cell_type": "code",
   "execution_count": 8,
   "id": "86a76ef5",
   "metadata": {},
   "outputs": [
    {
     "data": {
      "text/plain": [
       "(10000, 11)"
      ]
     },
     "execution_count": 8,
     "metadata": {},
     "output_type": "execute_result"
    }
   ],
   "source": [
    "X.T.shape"
   ]
  },
  {
   "cell_type": "code",
   "execution_count": 9,
   "id": "1295cb1c",
   "metadata": {},
   "outputs": [
    {
     "data": {
      "text/plain": [
       "(11, 10000)"
      ]
     },
     "execution_count": 9,
     "metadata": {},
     "output_type": "execute_result"
    }
   ],
   "source": [
    "X.shape"
   ]
  },
  {
   "cell_type": "code",
   "execution_count": 10,
   "id": "4f2bf8f2",
   "metadata": {},
   "outputs": [],
   "source": [
    "X = X.T"
   ]
  },
  {
   "cell_type": "code",
   "execution_count": 11,
   "id": "8cef652f",
   "metadata": {},
   "outputs": [
    {
     "ename": "ValueError",
     "evalue": "operands could not be broadcast together with shapes (11,10000) (10000,11) ",
     "output_type": "error",
     "traceback": [
      "\u001b[1;31m---------------------------------------------------------------------------\u001b[0m",
      "\u001b[1;31mValueError\u001b[0m                                Traceback (most recent call last)",
      "\u001b[1;32m~\\AppData\\Local\\Temp/ipykernel_23916/3497789515.py\u001b[0m in \u001b[0;36m<module>\u001b[1;34m\u001b[0m\n\u001b[1;32m----> 1\u001b[1;33m \u001b[0mXTX\u001b[0m \u001b[1;33m=\u001b[0m \u001b[0mX\u001b[0m\u001b[1;33m.\u001b[0m\u001b[0mT\u001b[0m \u001b[1;33m*\u001b[0m \u001b[0mX\u001b[0m\u001b[1;33m\u001b[0m\u001b[1;33m\u001b[0m\u001b[0m\n\u001b[0m",
      "\u001b[1;31mValueError\u001b[0m: operands could not be broadcast together with shapes (11,10000) (10000,11) "
     ]
    }
   ],
   "source": [
    "XTX = X.T * X"
   ]
  },
  {
   "cell_type": "code",
   "execution_count": 12,
   "id": "4bfed099",
   "metadata": {},
   "outputs": [],
   "source": [
    "XTX = np.matmul(X.T, X)"
   ]
  },
  {
   "cell_type": "code",
   "execution_count": 13,
   "id": "f98dd9c8",
   "metadata": {},
   "outputs": [
    {
     "data": {
      "text/plain": [
       "array([[ 1.00000000e+04,  2.99762011e+04, -1.99736707e+04,\n",
       "         6.99524022e+04,  2.59633139e+05,  8.01200000e+03,\n",
       "        -2.33764634e+00,  7.15525828e+00, -7.02512105e+00,\n",
       "         8.37104107e+00, -1.14644424e+01],\n",
       "       [ 2.99762011e+04,  9.97283344e+04, -5.98612960e+04,\n",
       "         2.29432870e+05,  8.77223485e+05,  2.40095929e+04,\n",
       "        -1.10142232e+01,  1.51567698e+01, -1.30919536e+01,\n",
       "         1.56880632e+01, -4.20698118e+01],\n",
       "       [-1.99736707e+04, -5.98612960e+04,  4.99220611e+04,\n",
       "        -1.39696263e+05, -5.18343111e+05, -1.59626164e+04,\n",
       "        -1.16033107e+01, -1.37067994e+01,  9.39533028e+00,\n",
       "        -2.50385163e+01,  1.26002121e+01],\n",
       "       [ 6.99524022e+04,  2.29432870e+05, -1.39696263e+05,\n",
       "         5.28818142e+05,  2.01408011e+06,  5.60311858e+04,\n",
       "        -2.43660928e+01,  3.74687980e+01, -3.32090282e+01,\n",
       "         3.97471676e+01, -9.56040659e+01],\n",
       "       [ 2.59633139e+05,  8.77223485e+05, -5.18343111e+05,\n",
       "         2.01408011e+06,  7.75382706e+06,  2.07941179e+05,\n",
       "        -9.64265979e+01,  1.32072676e+02, -8.26158900e+01,\n",
       "         1.26369216e+02, -3.65943932e+02],\n",
       "       [ 8.01200000e+03,  2.40095929e+04, -1.59626164e+04,\n",
       "         5.60311858e+04,  2.07941179e+05,  8.01200000e+03,\n",
       "         4.20642009e+00,  5.03359596e+00, -3.28858040e+00,\n",
       "         8.27115690e+00, -1.17418240e+01],\n",
       "       [-2.33764634e+00, -1.10142232e+01, -1.16033107e+01,\n",
       "        -2.43660928e+01, -9.64265979e+01,  4.20642009e+00,\n",
       "         9.94844928e+01, -2.08210259e+00, -2.50469104e+00,\n",
       "         1.51543261e+00,  1.75567301e+00],\n",
       "       [ 7.15525828e+00,  1.51567698e+01, -1.37067994e+01,\n",
       "         3.74687980e+01,  1.32072676e+02,  5.03359596e+00,\n",
       "        -2.08210259e+00,  1.03337705e+02,  1.06288311e+00,\n",
       "         1.27423010e+00,  1.21706316e+00],\n",
       "       [-7.02512105e+00, -1.30919536e+01,  9.39533028e+00,\n",
       "        -3.32090282e+01, -8.26158900e+01, -3.28858040e+00,\n",
       "        -2.50469104e+00,  1.06288311e+00,  9.69577607e+01,\n",
       "         1.98449571e-01, -9.58726941e-01],\n",
       "       [ 8.37104107e+00,  1.56880632e+01, -2.50385163e+01,\n",
       "         3.97471676e+01,  1.26369216e+02,  8.27115690e+00,\n",
       "         1.51543261e+00,  1.27423010e+00,  1.98449571e-01,\n",
       "         1.02439159e+02, -1.41422154e+00],\n",
       "       [-1.14644424e+01, -4.20698118e+01,  1.26002121e+01,\n",
       "        -9.56040659e+01, -3.65943932e+02, -1.17418240e+01,\n",
       "         1.75567301e+00,  1.21706316e+00, -9.58726941e-01,\n",
       "        -1.41422154e+00,  1.01843297e+02]])"
      ]
     },
     "execution_count": 13,
     "metadata": {},
     "output_type": "execute_result"
    }
   ],
   "source": [
    "XTX"
   ]
  },
  {
   "cell_type": "code",
   "execution_count": 14,
   "id": "a2aa5bda",
   "metadata": {},
   "outputs": [
    {
     "data": {
      "text/plain": [
       "(11, 11)"
      ]
     },
     "execution_count": 14,
     "metadata": {},
     "output_type": "execute_result"
    }
   ],
   "source": [
    "XTX.shape"
   ]
  },
  {
   "cell_type": "code",
   "execution_count": 15,
   "id": "12d92d6b",
   "metadata": {},
   "outputs": [],
   "source": [
    "def compute_y(x):\n",
    "    y = 4 - 3 * x[0] * x[0] + x[2] - 0.01 * x[3] + x[1] * x[4] + np.random.normal(0, 0.1, len(x[0]))\n",
    "    return y\n",
    "Y = compute_y(X.T)"
   ]
  },
  {
   "cell_type": "code",
   "execution_count": 16,
   "id": "f854895f",
   "metadata": {},
   "outputs": [
    {
     "data": {
      "text/plain": [
       "array([ 34.51609204,  90.02249694, 125.79673245, ..., 120.78699167,\n",
       "        -0.65218824,  88.23318165])"
      ]
     },
     "execution_count": 16,
     "metadata": {},
     "output_type": "execute_result"
    }
   ],
   "source": [
    "Y"
   ]
  },
  {
   "cell_type": "code",
   "execution_count": 20,
   "id": "239e0216",
   "metadata": {},
   "outputs": [
    {
     "data": {
      "text/plain": [
       "array([8.42593582e+06, 1.82335159e+04, 4.45216061e+03, 1.48994232e+03,\n",
       "       2.20109153e-11, 1.96345916e+02, 9.51454810e+01, 9.73098499e+01,\n",
       "       1.04877435e+02, 1.02989660e+02, 1.03550612e+02])"
      ]
     },
     "execution_count": 20,
     "metadata": {},
     "output_type": "execute_result"
    }
   ],
   "source": [
    "np.linalg.eigvals(XTX)"
   ]
  },
  {
   "cell_type": "code",
   "execution_count": 26,
   "id": "c1611089",
   "metadata": {},
   "outputs": [],
   "source": [
    "XTXinv = np.linalg.inv(XTX)"
   ]
  },
  {
   "cell_type": "code",
   "execution_count": 27,
   "id": "8b923392",
   "metadata": {},
   "outputs": [],
   "source": [
    "ws = np.matmul(XTXinv, X.T)"
   ]
  },
  {
   "cell_type": "code",
   "execution_count": 28,
   "id": "ae4aa6b5",
   "metadata": {},
   "outputs": [],
   "source": [
    "ws = np.matmul(ws, Y)"
   ]
  },
  {
   "cell_type": "code",
   "execution_count": 29,
   "id": "c3d2ee7f",
   "metadata": {},
   "outputs": [
    {
     "data": {
      "text/plain": [
       "array([-1.51778948e+02, -1.09075711e+02,  1.01458702e+00,  2.37093451e+01,\n",
       "        1.30777672e+01,  6.31444845e-02,  1.24295043e-01, -3.23871170e-01,\n",
       "        7.16909661e-02,  4.42744400e-01, -1.57435501e-01])"
      ]
     },
     "execution_count": 29,
     "metadata": {},
     "output_type": "execute_result"
    }
   ],
   "source": [
    "ws"
   ]
  },
  {
   "cell_type": "code",
   "execution_count": 30,
   "id": "2bdb921e",
   "metadata": {},
   "outputs": [],
   "source": [
    "test = generate_data(1000, 10)"
   ]
  },
  {
   "cell_type": "code",
   "execution_count": 31,
   "id": "53795dbe",
   "metadata": {},
   "outputs": [
    {
     "data": {
      "text/plain": [
       "(11,)"
      ]
     },
     "execution_count": 31,
     "metadata": {},
     "output_type": "execute_result"
    }
   ],
   "source": [
    "ws.shape"
   ]
  },
  {
   "cell_type": "code",
   "execution_count": 38,
   "id": "22868614",
   "metadata": {},
   "outputs": [
    {
     "ename": "TypeError",
     "evalue": "generate_data() takes 2 positional arguments but 3 were given",
     "output_type": "error",
     "traceback": [
      "\u001b[1;31m---------------------------------------------------------------------------\u001b[0m",
      "\u001b[1;31mTypeError\u001b[0m                                 Traceback (most recent call last)",
      "\u001b[1;32m~\\AppData\\Local\\Temp/ipykernel_23916/2642518699.py\u001b[0m in \u001b[0;36m<module>\u001b[1;34m\u001b[0m\n\u001b[1;32m----> 1\u001b[1;33m \u001b[0mtest\u001b[0m \u001b[1;33m=\u001b[0m \u001b[0mgenerate_data\u001b[0m\u001b[1;33m(\u001b[0m\u001b[1;36m1000\u001b[0m\u001b[1;33m,\u001b[0m \u001b[1;36m10\u001b[0m\u001b[1;33m,\u001b[0m \u001b[1;32mTrue\u001b[0m\u001b[1;33m)\u001b[0m\u001b[1;33m\u001b[0m\u001b[1;33m\u001b[0m\u001b[0m\n\u001b[0m",
      "\u001b[1;31mTypeError\u001b[0m: generate_data() takes 2 positional arguments but 3 were given"
     ]
    }
   ],
   "source": [
    "test = generate_data(1000, 10, True)"
   ]
  },
  {
   "cell_type": "code",
   "execution_count": null,
   "id": "ae77106a",
   "metadata": {},
   "outputs": [],
   "source": []
  }
 ],
 "metadata": {
  "kernelspec": {
   "display_name": "Python 3 (ipykernel)",
   "language": "python",
   "name": "python3"
  },
  "language_info": {
   "codemirror_mode": {
    "name": "ipython",
    "version": 3
   },
   "file_extension": ".py",
   "mimetype": "text/x-python",
   "name": "python",
   "nbconvert_exporter": "python",
   "pygments_lexer": "ipython3",
   "version": "3.9.7"
  }
 },
 "nbformat": 4,
 "nbformat_minor": 5
}
