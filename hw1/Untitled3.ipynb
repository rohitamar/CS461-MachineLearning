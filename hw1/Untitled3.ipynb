{
 "cells": [
  {
   "cell_type": "code",
   "execution_count": 1,
   "id": "ed1b43f3",
   "metadata": {},
   "outputs": [],
   "source": [
    "import math\n",
    "import numpy as np"
   ]
  },
  {
   "cell_type": "code",
   "execution_count": 73,
   "id": "c0bc3d2e",
   "metadata": {},
   "outputs": [],
   "source": [
    "def var(cnt, s1, s2):\n",
    "    assert cnt != 0\n",
    "    return s2 / cnt - (s1 / cnt) ** 2\n",
    "\n",
    "def cov(x, y):\n",
    "    return np.mean(x * y) - np.mean(x) * np.mean(y)\n",
    "\n",
    "def corr(x, y):\n",
    "    if np.var(y) == 0:\n",
    "        return 0\n",
    "    if np.var(x) == 0:\n",
    "        return 0\n",
    "    return cov(x, y) / math.sqrt(np.var(x) * np.var(y))\n",
    "\n",
    "def generate_data(size, d):\n",
    "    x = []\n",
    "    x.append(np.random.normal(3, 1, size))\n",
    "    x.append(np.random.normal(-2, 1, size))\n",
    "    x.append(x[0] + 2 * x[1])\n",
    "    x.append((x[1] + 2)**2)\n",
    "    x.append(np.random.binomial(n=1, p=0.8, size=size))\n",
    "    for _ in range(d - 5):\n",
    "        x.append(np.random.normal(0, 0.1, size))\n",
    "\n",
    "    def compute_y(x):\n",
    "        y = 4 - 3 * x[0] * x[0] + x[2] - 0.01 * x[3] + x[1] * x[4] + np.random.normal(0, 0.1, len(x[0]))\n",
    "        return y\n",
    "\n",
    "    y = compute_y(x)\n",
    "    \n",
    "    return x, y\n",
    "\n",
    "class DecisionTree():   \n",
    "\n",
    "    def __init__(self, x, y, d, max_depth, min_sample_size):\n",
    "        self.x = x\n",
    "        self.y = y\n",
    "        \n",
    "        self.max_depth = max_depth\n",
    "        self.min_sample_size = min_sample_size\n",
    "        self.depth = d \n",
    "        self.child = len(self.x[0]) <= self.min_sample_size or self.depth == self.max_depth\n",
    "        \n",
    "        self.ind = -1\n",
    "        self.threshold = 0\n",
    "        \n",
    "        self.result = np.mean(y)\n",
    "        self.left, self.right = None, None\n",
    "\n",
    "        if not self.child:\n",
    "            self.split()\n",
    "    \n",
    "    def find_best_feature(self):\n",
    "        all_corr = [abs(corr(xi, self.y)) for xi in self.x]\n",
    "        return np.argmax(all_corr)\n",
    "    \n",
    "    def find_threshold_split(self, ind):\n",
    "        indices = self.x[ind].argsort()\n",
    "        \n",
    "        for i in range(len(self.x)):\n",
    "            self.x[i] = self.x[i][indices]\n",
    "        self.y = self.y[indices]\n",
    "        \n",
    "        threshold = -1\n",
    "        mn = float('inf')\n",
    "\n",
    "        for i in range(len(self.y) - 1):\n",
    "            fltr_left = self.x[ind] <= self.x[ind][i]\n",
    "            fltr_right = self.x[ind] > self.x[ind][i]\n",
    "            \n",
    "            var_left = np.var(self.y[fltr_left])\n",
    "            var_right = np.var(self.y[fltr_right])\n",
    "            \n",
    "            left = np.sum(fltr_left)\n",
    "            right = np.sum(fltr_right)\n",
    "\n",
    "            err_left = left / len(self.y) * var_left\n",
    "            err_right = right / len(self.y) * var_right\n",
    "            \n",
    "            err = err_left + err_right\n",
    "            \n",
    "            if err < mn:\n",
    "                threshold, mn = self.x[ind][i], err\n",
    "        return threshold\n",
    "    \n",
    "     \n",
    "    def split(self):\n",
    "        self.ind = self.find_best_feature()\n",
    "        self.threshold = self.find_threshold_split(self.ind)\n",
    "\n",
    "        fltr_left = self.x[self.ind] <= self.threshold\n",
    "        fltr_right = self.x[self.ind] > self.threshold\n",
    "        \n",
    "       # print('Left: ', np.sum(fltr_left), ' Right: ', np.sum(fltr_right))\n",
    "        \n",
    "        x_left = []\n",
    "        x_right = []\n",
    "        \n",
    "        for i in range(len(self.x)):\n",
    "            x_left.append(self.x[i][fltr_left])\n",
    "            x_right.append(self.x[i][fltr_right])\n",
    "            \n",
    "        y_left = self.y[fltr_left]\n",
    "        y_right = self.y[fltr_right]\n",
    "        \n",
    "        self.left = DecisionTree(x_left, y_left, self.depth + 1, self.max_depth, self.min_sample_size)\n",
    "        self.right = DecisionTree(x_right, y_right, self.depth + 1, self.max_depth, self.min_sample_size)\n",
    "\n",
    "    @staticmethod\n",
    "    def predict(node, arr):\n",
    "        if node.child:\n",
    "            return node.result\n",
    "        if arr[node.ind] <= node.threshold:\n",
    "            return DecisionTree.predict(node.left, arr)\n",
    "        else:\n",
    "            return DecisionTree.predict(node.right, arr)\n",
    "        \n",
    "def compute_mse(x, y, dt):\n",
    "    err = 0\n",
    "    for i in range(len(y)):\n",
    "        yp = DecisionTree.predict(dt, x[i])\n",
    "        err += (abs(yp - y[i]) ** 2)\n",
    "    err = err / len(y)\n",
    "    return err\n"
   ]
  },
  {
   "cell_type": "code",
   "execution_count": 68,
   "id": "39b62a41",
   "metadata": {},
   "outputs": [],
   "source": [
    "x, y = generate_data(100, 6)"
   ]
  },
  {
   "cell_type": "code",
   "execution_count": 69,
   "id": "720d38b8",
   "metadata": {
    "scrolled": true
   },
   "outputs": [
    {
     "name": "stdout",
     "output_type": "stream",
     "text": [
      "Left:  64  Right:  36\n",
      "Left:  31  Right:  33\n",
      "Left:  14  Right:  17\n",
      "Left:  6  Right:  8\n",
      "Left:  4  Right:  2\n",
      "Left:  1  Right:  3\n",
      "Left:  1  Right:  2\n",
      "Left:  1  Right:  1\n",
      "Left:  1  Right:  1\n",
      "Left:  3  Right:  5\n",
      "Left:  1  Right:  2\n",
      "Left:  1  Right:  1\n",
      "Left:  4  Right:  1\n",
      "Left:  1  Right:  3\n",
      "Left:  2  Right:  1\n",
      "Left:  1  Right:  1\n",
      "Left:  14  Right:  3\n",
      "Left:  8  Right:  6\n",
      "Left:  2  Right:  6\n",
      "Left:  1  Right:  1\n",
      "Left:  4  Right:  2\n",
      "Left:  1  Right:  3\n",
      "Left:  1  Right:  2\n",
      "Left:  1  Right:  1\n",
      "Left:  1  Right:  1\n",
      "Left:  5  Right:  1\n",
      "Left:  4  Right:  1\n",
      "Left:  1  Right:  3\n",
      "Left:  2  Right:  1\n",
      "Left:  1  Right:  1\n",
      "Left:  2  Right:  1\n",
      "Left:  1  Right:  1\n",
      "Left:  22  Right:  11\n",
      "Left:  4  Right:  18\n",
      "Left:  3  Right:  1\n",
      "Left:  1  Right:  2\n",
      "Left:  1  Right:  1\n",
      "Left:  12  Right:  6\n",
      "Left:  9  Right:  3\n",
      "Left:  8  Right:  1\n",
      "Left:  1  Right:  7\n",
      "Left:  3  Right:  4\n",
      "Left:  1  Right:  2\n",
      "Left:  1  Right:  1\n",
      "Left:  3  Right:  1\n",
      "Left:  2  Right:  1\n",
      "Left:  1  Right:  1\n",
      "Left:  1  Right:  2\n",
      "Left:  1  Right:  1\n",
      "Left:  4  Right:  2\n",
      "Left:  3  Right:  1\n",
      "Left:  2  Right:  1\n",
      "Left:  1  Right:  1\n",
      "Left:  1  Right:  1\n",
      "Left:  4  Right:  7\n",
      "Left:  3  Right:  1\n",
      "Left:  2  Right:  1\n",
      "Left:  1  Right:  1\n",
      "Left:  3  Right:  4\n",
      "Left:  1  Right:  2\n",
      "Left:  1  Right:  1\n",
      "Left:  2  Right:  2\n",
      "Left:  1  Right:  1\n",
      "Left:  1  Right:  1\n",
      "Left:  30  Right:  6\n",
      "Left:  13  Right:  17\n",
      "Left:  2  Right:  11\n",
      "Left:  1  Right:  1\n",
      "Left:  6  Right:  5\n",
      "Left:  4  Right:  2\n",
      "Left:  3  Right:  1\n",
      "Left:  2  Right:  1\n",
      "Left:  1  Right:  1\n",
      "Left:  1  Right:  1\n",
      "Left:  2  Right:  3\n",
      "Left:  1  Right:  1\n",
      "Left:  1  Right:  2\n",
      "Left:  1  Right:  1\n",
      "Left:  12  Right:  5\n",
      "Left:  6  Right:  6\n",
      "Left:  3  Right:  3\n",
      "Left:  2  Right:  1\n",
      "Left:  1  Right:  1\n",
      "Left:  1  Right:  2\n",
      "Left:  1  Right:  1\n",
      "Left:  5  Right:  1\n",
      "Left:  1  Right:  4\n",
      "Left:  3  Right:  1\n",
      "Left:  1  Right:  2\n",
      "Left:  1  Right:  1\n",
      "Left:  4  Right:  1\n",
      "Left:  3  Right:  1\n",
      "Left:  2  Right:  1\n",
      "Left:  1  Right:  1\n",
      "Left:  3  Right:  3\n",
      "Left:  2  Right:  1\n",
      "Left:  1  Right:  1\n",
      "Left:  1  Right:  2\n",
      "Left:  1  Right:  1\n"
     ]
    }
   ],
   "source": [
    "x, y = generate_data(100, 6)\n",
    "dt = DecisionTree(x, y, 1, 15, 4)"
   ]
  },
  {
   "cell_type": "code",
   "execution_count": null,
   "id": "986f0652",
   "metadata": {},
   "outputs": [],
   "source": []
  },
  {
   "cell_type": "code",
   "execution_count": 70,
   "id": "399e8639",
   "metadata": {},
   "outputs": [],
   "source": [
    "def transpose(temp):\n",
    "    temp = np.array(temp)\n",
    "    return temp.T"
   ]
  },
  {
   "cell_type": "code",
   "execution_count": 77,
   "id": "f6596423",
   "metadata": {},
   "outputs": [
    {
     "ename": "TypeError",
     "evalue": "__init__() takes 4 positional arguments but 6 were given",
     "output_type": "error",
     "traceback": [
      "\u001b[1;31m---------------------------------------------------------------------------\u001b[0m",
      "\u001b[1;31mTypeError\u001b[0m                                 Traceback (most recent call last)",
      "\u001b[1;32m~\\AppData\\Local\\Temp/ipykernel_23828/311265475.py\u001b[0m in \u001b[0;36m<module>\u001b[1;34m\u001b[0m\n\u001b[0;32m      2\u001b[0m \u001b[0mxt\u001b[0m \u001b[1;33m=\u001b[0m \u001b[0mtranspose\u001b[0m\u001b[1;33m(\u001b[0m\u001b[0mx\u001b[0m\u001b[1;33m)\u001b[0m\u001b[1;33m\u001b[0m\u001b[1;33m\u001b[0m\u001b[0m\n\u001b[0;32m      3\u001b[0m \u001b[1;33m\u001b[0m\u001b[0m\n\u001b[1;32m----> 4\u001b[1;33m \u001b[0mdt\u001b[0m \u001b[1;33m=\u001b[0m \u001b[0mDecisionTree\u001b[0m\u001b[1;33m(\u001b[0m\u001b[0mx\u001b[0m\u001b[1;33m,\u001b[0m \u001b[0my\u001b[0m\u001b[1;33m,\u001b[0m \u001b[1;36m1\u001b[0m\u001b[1;33m,\u001b[0m \u001b[1;36m15\u001b[0m\u001b[1;33m,\u001b[0m \u001b[1;36m5\u001b[0m\u001b[1;33m)\u001b[0m\u001b[1;33m\u001b[0m\u001b[1;33m\u001b[0m\u001b[0m\n\u001b[0m\u001b[0;32m      5\u001b[0m \u001b[0mloss\u001b[0m \u001b[1;33m=\u001b[0m \u001b[0mcompute_mse\u001b[0m\u001b[1;33m(\u001b[0m\u001b[0mxt\u001b[0m\u001b[1;33m,\u001b[0m \u001b[0my\u001b[0m\u001b[1;33m,\u001b[0m \u001b[0mdt\u001b[0m\u001b[1;33m)\u001b[0m\u001b[1;33m\u001b[0m\u001b[1;33m\u001b[0m\u001b[0m\n\u001b[0;32m      6\u001b[0m \u001b[0mprint\u001b[0m\u001b[1;33m(\u001b[0m\u001b[0mloss\u001b[0m\u001b[1;33m)\u001b[0m\u001b[1;33m\u001b[0m\u001b[1;33m\u001b[0m\u001b[0m\n",
      "\u001b[1;31mTypeError\u001b[0m: __init__() takes 4 positional arguments but 6 were given"
     ]
    }
   ],
   "source": [
    "x, y = generate_data(10000, 6)\n",
    "xt = transpose(x)\n",
    "\n",
    "dt = DecisionTree(x, y, 1, 15, 5)\n",
    "loss = compute_mse(xt, y, dt)\n",
    "print(loss)"
   ]
  },
  {
   "cell_type": "code",
   "execution_count": 71,
   "id": "c73df4b5",
   "metadata": {},
   "outputs": [
    {
     "data": {
      "text/plain": [
       "[array([0.16486488, 0.92655235, 1.04194967, 1.18237879, 1.21923543,\n",
       "        1.29473032, 1.43085787, 1.54212323, 1.61482107, 1.62430239,\n",
       "        1.69041383, 1.79036196, 1.8236142 , 1.86668696, 2.03785984,\n",
       "        2.11009567, 2.15310784, 2.1650782 , 2.20679968, 2.21321725,\n",
       "        2.26436462, 2.35052939, 2.40213784, 2.41472197, 2.4184325 ,\n",
       "        2.43034813, 2.46335908, 2.47679267, 2.50937762, 2.53203618,\n",
       "        2.54263417, 2.64936148, 2.66356465, 2.70094109, 2.71693201,\n",
       "        2.74110053, 2.75522951, 2.75921653, 2.77380308, 2.80817998,\n",
       "        2.81368483, 2.83484676, 2.83626147, 2.86319001, 2.87183509,\n",
       "        2.88300176, 2.89357346, 2.89525073, 2.92948453, 2.94871132,\n",
       "        2.96848322, 3.00565539, 3.02217715, 3.05443515, 3.09719506,\n",
       "        3.12275154, 3.20053642, 3.21314577, 3.24853504, 3.24994092,\n",
       "        3.27816862, 3.33865007, 3.38033472, 3.38657387, 3.44451824,\n",
       "        3.49474281, 3.58241465, 3.68826892, 3.69033338, 3.73495174,\n",
       "        3.75170679, 3.76341729, 3.7749634 , 3.80503636, 3.81806058,\n",
       "        3.87103518, 3.98081581, 4.04738217, 4.08352222, 4.10354272,\n",
       "        4.10736385, 4.11536705, 4.11608807, 4.13267757, 4.16443421,\n",
       "        4.16786351, 4.25223628, 4.26468333, 4.31346742, 4.31386279,\n",
       "        4.42774712, 4.55424439, 4.55774569, 4.74576271, 4.92817379,\n",
       "        4.94788079, 5.09742561, 5.4306182 , 5.63359458, 5.64882696]),\n",
       " array([-3.4645671 , -0.81848252, -2.05635534, -1.42909739, -1.00239237,\n",
       "        -3.03003867, -2.15114158, -1.43770638, -1.70841641, -2.4716023 ,\n",
       "        -1.94141358, -2.26763982, -1.83140506, -1.45280691, -3.36999521,\n",
       "        -2.27861438, -3.28489993, -1.90111642, -2.41287076, -1.55113416,\n",
       "        -0.17058686, -0.87699849, -0.0187833 ,  1.14992135, -1.97476697,\n",
       "        -2.016693  , -2.14260557, -2.64357663, -1.40865005, -1.39079036,\n",
       "        -0.2082984 , -1.98531916, -0.86067225, -1.6149596 , -1.46889309,\n",
       "        -3.10061135, -2.69345726, -1.49943687, -1.33295981, -1.79178429,\n",
       "        -2.72441029, -1.01037587, -1.3855369 , -0.716121  , -0.5875887 ,\n",
       "        -1.93226842, -3.51000667, -0.93832885, -1.77328687, -3.12234865,\n",
       "        -0.49080044, -1.46205587, -1.61299824, -3.19824137, -1.83157992,\n",
       "        -0.99060909, -3.09148884, -1.71485892, -2.09255425,  0.10381248,\n",
       "        -1.65517541, -0.19219236, -0.63722748, -2.26365399, -2.93477683,\n",
       "        -3.01706913, -1.15198333, -1.00608064, -3.97171719, -1.63856463,\n",
       "        -3.93036056, -2.07242771, -2.17591007, -1.38091617, -2.20340735,\n",
       "        -2.20760721, -1.39554673, -2.26851126, -1.76975329, -3.29776381,\n",
       "        -3.02161092, -1.49543227, -1.78253488, -2.50033953, -1.21920404,\n",
       "        -0.77073465, -2.30589102, -1.94858859, -1.14626464, -2.77150151,\n",
       "        -2.40884291, -1.0105989 , -0.63993827, -0.88299706, -2.20985386,\n",
       "        -2.25170052, -1.27089792, -1.96975873, -2.44532853, -0.40847017]),\n",
       " array([-6.76426932, -0.71041268, -3.07076102, -1.675816  , -0.78554931,\n",
       "        -4.76534702, -2.87142528, -1.33328953, -1.80201175, -3.31890222,\n",
       "        -2.19241333, -2.74491768, -1.83919593, -1.03892686, -4.70213057,\n",
       "        -2.44713309, -4.41669203, -1.63715464, -2.61894184, -0.88905108,\n",
       "         1.92319091,  0.59653242,  2.36457123,  4.71456466, -1.53110143,\n",
       "        -1.60303787, -1.82185207, -2.81036059, -0.30792248, -0.24954455,\n",
       "         2.12603736, -1.32127685,  0.94222014, -0.52897812, -0.22085416,\n",
       "        -3.46012218, -2.631685  , -0.23965721,  0.10788346, -0.77538861,\n",
       "        -2.63513575,  0.81409501,  0.06518767,  1.43094801,  1.69665769,\n",
       "        -0.98153508, -4.12643988,  1.01859303, -0.61708922, -3.29598598,\n",
       "         1.98688234,  0.08154364, -0.20381932, -3.3420476 , -0.56596478,\n",
       "         1.14153336, -2.98244125, -0.21657208, -0.93657347,  3.45756589,\n",
       "        -0.0321822 ,  2.95426536,  2.10587977, -1.14073411, -2.42503542,\n",
       "        -2.53939545,  1.27844799,  1.67610765, -4.25310101,  0.45782248,\n",
       "        -4.10901433, -0.38143813, -0.57685675,  1.04320401, -0.58875412,\n",
       "        -0.54417925,  1.18972235, -0.48964035,  0.54401564, -2.4919849 ,\n",
       "        -1.93585799,  1.12450252,  0.55101831, -0.86800149,  1.72602613,\n",
       "         2.6263942 , -0.35954576,  0.36750615,  2.02093814, -1.22914023,\n",
       "        -0.38993869,  2.5330466 ,  3.27786916,  2.97976858,  0.50846607,\n",
       "         0.44447974,  2.55562976,  1.49110073,  0.74293751,  4.83188662]),\n",
       " array([2.14495680e+00, 1.39598356e+00, 3.17592489e-03, 3.25929785e-01,\n",
       "        9.95220985e-01, 1.06097965e+00, 2.28437757e-02, 3.16174114e-01,\n",
       "        8.50209896e-02, 2.22408733e-01, 3.43236840e-03, 7.16310743e-02,\n",
       "        2.84242526e-02, 2.99420279e-01, 1.87688686e+00, 7.76259742e-02,\n",
       "        1.65096784e+00, 9.77796209e-03, 1.70462263e-01, 2.01480541e-01,\n",
       "        3.34675245e+00, 1.26113240e+00, 3.92521959e+00, 9.92200450e+00,\n",
       "        6.36706023e-04, 2.78656327e-04, 2.03363494e-02, 4.14190876e-01,\n",
       "        3.49694763e-01, 3.71136380e-01, 3.21019461e+00, 2.15527033e-04,\n",
       "        1.29806772e+00, 1.48256106e-01, 2.82074553e-01, 1.21134535e+00,\n",
       "        4.80882966e-01, 2.50563444e-01, 4.44942613e-01, 4.33537806e-02,\n",
       "        5.24770269e-01, 9.79355913e-01, 3.77564901e-01, 1.64834529e+00,\n",
       "        1.99490569e+00, 4.58756691e-03, 2.28012015e+00, 1.12714563e+00,\n",
       "        5.13988425e-02, 1.25966649e+00, 2.27768330e+00, 2.89383886e-01,\n",
       "        1.49770366e-01, 1.43578239e+00, 2.83653240e-02, 1.01887000e+00,\n",
       "        1.19134788e+00, 8.13054334e-02, 8.56629003e-03, 4.42602696e+00,\n",
       "        1.18903997e-01, 3.26816848e+00, 1.85714895e+00, 6.95134267e-02,\n",
       "        8.73807723e-01, 1.03442961e+00, 7.19132269e-01, 9.87875703e-01,\n",
       "        3.88766870e+00, 1.30635526e-01, 3.72629189e+00, 5.24577317e-03,\n",
       "        3.09443544e-02, 3.83264783e-01, 4.13745497e-02, 4.31007556e-02,\n",
       "        3.65363756e-01, 7.20982975e-02, 5.30135484e-02, 1.68419090e+00,\n",
       "        1.04368887e+00, 2.54588599e-01, 4.72910771e-02, 2.50339647e-01,\n",
       "        6.09642329e-01, 1.51109329e+00, 9.35693144e-02, 2.64313281e-03,\n",
       "        7.28864067e-01, 5.95214580e-01, 1.67152522e-01, 9.78914540e-01,\n",
       "        1.84976792e+00, 1.24769556e+00, 4.40386420e-02, 6.33531539e-02,\n",
       "        5.31589838e-01, 9.14534296e-04, 1.98317502e-01, 2.53296720e+00]),\n",
       " array([1, 1, 0, 1, 1, 1, 1, 1, 0, 1, 1, 1, 1, 1, 1, 1, 1, 0, 1, 1, 1, 1,\n",
       "        1, 1, 1, 1, 0, 1, 1, 1, 0, 1, 1, 1, 1, 1, 0, 1, 1, 0, 1, 1, 1, 0,\n",
       "        1, 1, 1, 1, 1, 0, 0, 1, 1, 1, 1, 0, 1, 0, 1, 1, 1, 0, 1, 1, 1, 1,\n",
       "        0, 1, 1, 0, 1, 0, 1, 1, 0, 1, 1, 1, 1, 1, 1, 1, 1, 1, 1, 0, 0, 1,\n",
       "        1, 1, 1, 0, 1, 1, 1, 1, 1, 1, 1, 0]),\n",
       " array([ 0.22038746, -0.05173881, -0.02592179, -0.04773337, -0.1370414 ,\n",
       "         0.1652695 ,  0.0228652 , -0.04814431, -0.02370004,  0.03484097,\n",
       "         0.0415886 ,  0.24184236, -0.00341704, -0.01504107,  0.09075123,\n",
       "        -0.03863649,  0.10392039, -0.04469046, -0.03287452, -0.05832457,\n",
       "        -0.04828714,  0.05824119,  0.09905503,  0.11919762,  0.12897101,\n",
       "         0.10948522,  0.13064102,  0.09344725, -0.05911651,  0.02177234,\n",
       "        -0.13042462,  0.11071864, -0.07492033,  0.16269075, -0.19542446,\n",
       "        -0.07797346, -0.07902616, -0.00343809,  0.12769991, -0.06051702,\n",
       "        -0.01515689,  0.01352849, -0.08408993, -0.06660541,  0.08318998,\n",
       "        -0.26776837,  0.1517672 , -0.03109629,  0.08732142, -0.07921158,\n",
       "         0.1437322 ,  0.0842131 , -0.22661779,  0.04034591,  0.00306064,\n",
       "         0.04277551,  0.14847569,  0.02625049, -0.13897725, -0.14079807,\n",
       "        -0.26633797, -0.14220026, -0.0303295 , -0.02271245,  0.0999231 ,\n",
       "         0.13413698, -0.00794349,  0.1425108 ,  0.28346937, -0.18390299,\n",
       "        -0.1634698 ,  0.00886383,  0.11718681,  0.09202013,  0.16784931,\n",
       "        -0.07408543, -0.08857483,  0.01204426, -0.03805755, -0.11152221,\n",
       "        -0.02317705, -0.02462836, -0.03761109,  0.04485905, -0.02551624,\n",
       "        -0.10267364,  0.07758564, -0.0329293 , -0.0696914 ,  0.03973375,\n",
       "         0.12163094, -0.11917993, -0.10865073,  0.07624116, -0.09456381,\n",
       "        -0.07202948, -0.06896532, -0.01158198, -0.02809629,  0.07057367])]"
      ]
     },
     "execution_count": 71,
     "metadata": {},
     "output_type": "execute_result"
    }
   ],
   "source": [
    "x"
   ]
  },
  {
   "cell_type": "code",
   "execution_count": 62,
   "id": "12aac3ec",
   "metadata": {},
   "outputs": [
    {
     "data": {
      "text/plain": [
       "-57.26979355503823"
      ]
     },
     "execution_count": 62,
     "metadata": {},
     "output_type": "execute_result"
    }
   ],
   "source": [
    "y[0]"
   ]
  },
  {
   "cell_type": "code",
   "execution_count": 63,
   "id": "65065ab4",
   "metadata": {},
   "outputs": [
    {
     "data": {
      "text/plain": [
       "array([-0.01529896, -1.52818252, -3.07166401,  0.22261173,  1.        ,\n",
       "        0.21872561])"
      ]
     },
     "execution_count": 63,
     "metadata": {},
     "output_type": "execute_result"
    }
   ],
   "source": [
    "xt[0]"
   ]
  },
  {
   "cell_type": "code",
   "execution_count": 64,
   "id": "75cb6688",
   "metadata": {},
   "outputs": [
    {
     "data": {
      "text/plain": [
       "-0.4727112489968075"
      ]
     },
     "execution_count": 64,
     "metadata": {},
     "output_type": "execute_result"
    }
   ],
   "source": [
    "DecisionTree.predict(dt, xt[0])"
   ]
  },
  {
   "cell_type": "code",
   "execution_count": 65,
   "id": "333d3745",
   "metadata": {},
   "outputs": [
    {
     "data": {
      "text/plain": [
       "-57.26979355503823"
      ]
     },
     "execution_count": 65,
     "metadata": {},
     "output_type": "execute_result"
    }
   ],
   "source": [
    "y[0]"
   ]
  },
  {
   "cell_type": "code",
   "execution_count": 40,
   "id": "2b22d147",
   "metadata": {},
   "outputs": [
    {
     "data": {
      "text/plain": [
       "14947.190370601269"
      ]
     },
     "execution_count": 40,
     "metadata": {},
     "output_type": "execute_result"
    }
   ],
   "source": [
    "compute_mse(xt, y, dt)"
   ]
  },
  {
   "cell_type": "code",
   "execution_count": null,
   "id": "913af589",
   "metadata": {},
   "outputs": [],
   "source": []
  }
 ],
 "metadata": {
  "kernelspec": {
   "display_name": "Python 3 (ipykernel)",
   "language": "python",
   "name": "python3"
  },
  "language_info": {
   "codemirror_mode": {
    "name": "ipython",
    "version": 3
   },
   "file_extension": ".py",
   "mimetype": "text/x-python",
   "name": "python",
   "nbconvert_exporter": "python",
   "pygments_lexer": "ipython3",
   "version": "3.9.7"
  }
 },
 "nbformat": 4,
 "nbformat_minor": 5
}
