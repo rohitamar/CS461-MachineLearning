{
 "cells": [
  {
   "cell_type": "code",
   "execution_count": 1,
   "id": "c72ade6c",
   "metadata": {},
   "outputs": [],
   "source": [
    "import math \n",
    "import numpy as np"
   ]
  },
  {
   "cell_type": "code",
   "execution_count": 100,
   "id": "c9f141cc",
   "metadata": {},
   "outputs": [],
   "source": [
    "import math\n",
    "import numpy as np"
   ]
  },
  {
   "cell_type": "code",
   "execution_count": 34,
   "id": "b0ce436b",
   "metadata": {},
   "outputs": [],
   "source": [
    "def var(cnt, s1, s2):\n",
    "    assert cnt != 0\n",
    "    return s2 / cnt - (s1 / cnt) ** 2\n",
    "\n",
    "def cov(x, y):\n",
    "    return np.mean(x * y) - np.mean(x) * np.mean(y)\n",
    "\n",
    "def corr(x, y):\n",
    "    if np.var(y) == 0:\n",
    "        return 0\n",
    "    if np.var(x) == 0:\n",
    "        return 0\n",
    "    return cov(x, y) / math.sqrt(np.var(x) * np.var(y))"
   ]
  },
  {
   "cell_type": "code",
   "execution_count": 109,
   "id": "2447785c",
   "metadata": {},
   "outputs": [],
   "source": [
    "def generate_data(size, d):\n",
    "    print(size)\n",
    "    x = []\n",
    "    x.append(np.random.normal(3, 1, size))\n",
    "    x.append(np.random.normal(-2, 1, size))\n",
    "    x.append(x[0] + 2 * x[1])\n",
    "    x.append((x[1] + 2)**2)\n",
    "    x.append(np.random.binomial(n=1, p=0.8, size=size))\n",
    "    for _ in range(d - 5):\n",
    "        x.append(np.random.normal(0, 0.1, size))\n",
    "\n",
    "    def compute_y(x):\n",
    "        y = 4 - 3 * x[0] * x[0] + x[2] - 0.01 * x[3] + x[1] * x[4] + np.random.normal(0, 0.1, len(x[0]))\n",
    "        return y\n",
    "\n",
    "    y = compute_y(x)\n",
    "    \n",
    "    return x, y"
   ]
  },
  {
   "cell_type": "code",
   "execution_count": 54,
   "id": "d0f94099",
   "metadata": {},
   "outputs": [],
   "source": [
    "X, Y = generate_data(TRAINING_SIZE, D)"
   ]
  },
  {
   "cell_type": "code",
   "execution_count": 55,
   "id": "06646b0e",
   "metadata": {},
   "outputs": [
    {
     "data": {
      "text/plain": [
       "array([-12.47472548,  -4.60758193, -25.05351878, ..., -58.04555322,\n",
       "       -15.2594377 , -26.24200922])"
      ]
     },
     "execution_count": 55,
     "metadata": {},
     "output_type": "execute_result"
    }
   ],
   "source": [
    "Y"
   ]
  },
  {
   "cell_type": "code",
   "execution_count": 83,
   "id": "516c611f",
   "metadata": {},
   "outputs": [
    {
     "name": "stdout",
     "output_type": "stream",
     "text": [
      "[ True False False ... False False False]\n",
      "[False  True  True ...  True  True  True]\n",
      "0.0\n",
      "311.9091281319933\n",
      "[ True  True False ... False False False]\n",
      "[False False  True ...  True  True  True]\n",
      "98.9619465791863\n",
      "311.8893821426389\n",
      "[ True  True  True ... False False False]\n",
      "[False False False ...  True  True  True]\n",
      "66.75190997554601\n",
      "311.8995710258257\n",
      "2\n"
     ]
    }
   ],
   "source": [
    "threshold = -1\n",
    "mn = float('inf')\n",
    "\n",
    "X, Y = generate_data(TRAINING_SIZE, D)\n",
    "\n",
    "ind = 3\n",
    "\n",
    "indices = X[ind].argsort()\n",
    "\n",
    "for i in range(len(X)):\n",
    "    X[i] = X[i][indices]\n",
    "Y = Y[indices]\n",
    "\n",
    "for i in range(3):\n",
    "    left = i\n",
    "    right = len(Y) - i\n",
    "    \n",
    "    fltr_left = X[ind] <= X[ind][i]\n",
    "    fltr_right = X[ind] > X[ind][i]\n",
    "    \n",
    "    print(fltr_left)\n",
    "    print(fltr_right)\n",
    "    \n",
    "    var_left = np.var(Y[fltr_left])\n",
    "    var_right = np.var(Y[fltr_right])\n",
    "    \n",
    "    print(var_left)\n",
    "    print(var_right)\n",
    "    \n",
    "    err_left = left / len(Y) * var_left\n",
    "    err_right = right / len(Y) * var_right\n",
    "\n",
    "    err = err_left + err_right\n",
    "    \n",
    "    if err < mn:\n",
    "        threshold, mn, index = X[ind][i], err, i\n",
    "\n",
    "print(index)"
   ]
  },
  {
   "cell_type": "code",
   "execution_count": 78,
   "id": "1fbebcdc",
   "metadata": {},
   "outputs": [
    {
     "name": "stdout",
     "output_type": "stream",
     "text": [
      "[0 1]\n"
     ]
    }
   ],
   "source": [
    "print(sotd)"
   ]
  },
  {
   "cell_type": "code",
   "execution_count": 29,
   "id": "f9e31189",
   "metadata": {},
   "outputs": [
    {
     "data": {
      "text/plain": [
       "10000"
      ]
     },
     "execution_count": 29,
     "metadata": {},
     "output_type": "execute_result"
    }
   ],
   "source": [
    "len(sample)"
   ]
  },
  {
   "cell_type": "code",
   "execution_count": 65,
   "id": "58e17d5e",
   "metadata": {},
   "outputs": [],
   "source": [
    "x = np.array([1,2,3])"
   ]
  },
  {
   "cell_type": "code",
   "execution_count": 70,
   "id": "0edfbef7",
   "metadata": {},
   "outputs": [],
   "source": [
    "fltr = x > 1.5"
   ]
  },
  {
   "cell_type": "code",
   "execution_count": 72,
   "id": "1dbca8ca",
   "metadata": {},
   "outputs": [
    {
     "data": {
      "text/plain": [
       "array([2, 3])"
      ]
     },
     "execution_count": 72,
     "metadata": {},
     "output_type": "execute_result"
    }
   ],
   "source": [
    "x[fltr]"
   ]
  },
  {
   "cell_type": "code",
   "execution_count": 84,
   "id": "a74b9a1b",
   "metadata": {},
   "outputs": [],
   "source": [
    "class DecisionTree():   \n",
    "\n",
    "    def __init__(self, x, y, d):\n",
    "        self.x = x\n",
    "        self.y = y\n",
    "        \n",
    "        self.depth = d \n",
    "        self.child = len(self.x[0]) <= MIN_SAMPLE or self.depth == MAX_DEPTH or np.var(y) == 0\n",
    "        self.ind = -1\n",
    "        self.threshold = 0\n",
    "        self.marker = 0\n",
    "        self.result = np.mean(y)\n",
    "        self.left, self.right = None, None\n",
    "\n",
    "        if not self.child:\n",
    "            self.split()\n",
    "    \n",
    "    def find_best_feature(self):\n",
    "        all_corr = [abs(corr(xi, self.y)) for xi in self.x]\n",
    "        return np.argmax(all_corr)\n",
    "    \n",
    "    def find_threshold_split(self, ind):\n",
    "        indices = self.x[ind].argsort()\n",
    "        \n",
    "        for i in range(len(self.x)):\n",
    "            self.x[i] = self.x[i][indices]\n",
    "        self.y = self.y[indices]\n",
    "        \n",
    "        threshold = -1\n",
    "        mn = float('inf')\n",
    "\n",
    "        for i in range(len(self.y) - 1):\n",
    "            left = i\n",
    "            right = len(self.y) - i\n",
    "            \n",
    "            fltr_left = self.x[ind] <= self.x[ind][i]\n",
    "            fltr_right = self.x[ind] > self.x[ind][i]\n",
    "            \n",
    "            var_left = np.var(self.y[fltr_left])\n",
    "            var_right = np.var(self.y[fltr_right])\n",
    "            \n",
    "            err_left = left / len(self.y) * var_left\n",
    "            err_right = right / len(self.y) * var_right\n",
    "            \n",
    "            err = err_left + err_right\n",
    "            \n",
    "            if err < mn:\n",
    "                threshold, mn = self.x[ind][i], err\n",
    "     \n",
    "    def split(self):\n",
    "        self.ind = self.find_best_feature()\n",
    "        self.threshold = self.find_threshold_split(self.ind)\n",
    "\n",
    "        fltr_left = self.x[self.ind] <= self.threshold\n",
    "        fltr_right = self.x[self.ind] > self.threshold\n",
    "        \n",
    "        x_left = []\n",
    "        x_right = []\n",
    "        \n",
    "        for i in range(len(self.x)):\n",
    "            x_left.append(self.x[i][fltr_left])\n",
    "            x_right.append(self.x[i][fltr_right])\n",
    "        \n",
    "        y_left = self.y[fltr_left]\n",
    "        y_right = self.y[fltr_right]\n",
    "        \n",
    "        self.left = DecisionTree(x_left, y_left, self.depth + 1)\n",
    "        self.right = DecisionTree(x_right, y_right, self.depth + 1)\n",
    "\n",
    "    @staticmethod\n",
    "    def predict(node, arr):\n",
    "        if node.child:\n",
    "            return node.result\n",
    "        if arr[node.ind] <= node.marker:\n",
    "            return DecisionTree.predict(node.left, arr)\n",
    "        else:\n",
    "            return DecisionTree.predict(node.right, arr)"
   ]
  },
  {
   "cell_type": "code",
   "execution_count": 86,
   "id": "755d9f5e",
   "metadata": {},
   "outputs": [],
   "source": [
    "def compute_mse(x, y, dt):\n",
    "    err = 0\n",
    "    for i in range(len(y)):\n",
    "        yp = DecisionTree.predict(dt, x[i])\n",
    "        print(yp, ' ', y[i], ' ', i)\n",
    "        err += (abs(yp - y[i]) ** 2)\n",
    "    err = err / len(y)\n",
    "    return err"
   ]
  },
  {
   "cell_type": "code",
   "execution_count": 111,
   "id": "9534898c",
   "metadata": {},
   "outputs": [
    {
     "name": "stdout",
     "output_type": "stream",
     "text": [
      "100\n"
     ]
    },
    {
     "ename": "IndexError",
     "evalue": "boolean index did not match indexed array along dimension 0; dimension is 10000 but corresponding boolean dimension is 100",
     "output_type": "error",
     "traceback": [
      "\u001b[1;31m---------------------------------------------------------------------------\u001b[0m",
      "\u001b[1;31mIndexError\u001b[0m                                Traceback (most recent call last)",
      "\u001b[1;32m~\\AppData\\Local\\Temp/ipykernel_22884/3311837523.py\u001b[0m in \u001b[0;36m<module>\u001b[1;34m\u001b[0m\n\u001b[0;32m      1\u001b[0m \u001b[0mx\u001b[0m\u001b[1;33m,\u001b[0m \u001b[0my\u001b[0m \u001b[1;33m=\u001b[0m \u001b[0mgenerate_data\u001b[0m\u001b[1;33m(\u001b[0m\u001b[1;36m100\u001b[0m\u001b[1;33m,\u001b[0m \u001b[1;36m6\u001b[0m\u001b[1;33m)\u001b[0m\u001b[1;33m\u001b[0m\u001b[1;33m\u001b[0m\u001b[0m\n\u001b[1;32m----> 2\u001b[1;33m \u001b[0mdt\u001b[0m \u001b[1;33m=\u001b[0m \u001b[0mDecisionTree\u001b[0m\u001b[1;33m(\u001b[0m\u001b[0mx\u001b[0m\u001b[1;33m,\u001b[0m \u001b[0my\u001b[0m\u001b[1;33m,\u001b[0m \u001b[1;36m1\u001b[0m\u001b[1;33m)\u001b[0m\u001b[1;33m\u001b[0m\u001b[1;33m\u001b[0m\u001b[0m\n\u001b[0m",
      "\u001b[1;32m~\\AppData\\Local\\Temp/ipykernel_22884/1718314899.py\u001b[0m in \u001b[0;36m__init__\u001b[1;34m(self, x, y, d)\u001b[0m\n\u001b[0;32m     16\u001b[0m \u001b[1;33m\u001b[0m\u001b[0m\n\u001b[0;32m     17\u001b[0m         \u001b[1;32mif\u001b[0m \u001b[1;32mnot\u001b[0m \u001b[0mself\u001b[0m\u001b[1;33m.\u001b[0m\u001b[0mchild\u001b[0m\u001b[1;33m:\u001b[0m\u001b[1;33m\u001b[0m\u001b[1;33m\u001b[0m\u001b[0m\n\u001b[1;32m---> 18\u001b[1;33m             \u001b[0mself\u001b[0m\u001b[1;33m.\u001b[0m\u001b[0msplit\u001b[0m\u001b[1;33m(\u001b[0m\u001b[1;33m)\u001b[0m\u001b[1;33m\u001b[0m\u001b[1;33m\u001b[0m\u001b[0m\n\u001b[0m\u001b[0;32m     19\u001b[0m \u001b[1;33m\u001b[0m\u001b[0m\n\u001b[0;32m     20\u001b[0m     \u001b[1;32mdef\u001b[0m \u001b[0mfind_best_feature\u001b[0m\u001b[1;33m(\u001b[0m\u001b[0mself\u001b[0m\u001b[1;33m)\u001b[0m\u001b[1;33m:\u001b[0m\u001b[1;33m\u001b[0m\u001b[1;33m\u001b[0m\u001b[0m\n",
      "\u001b[1;32m~\\AppData\\Local\\Temp/ipykernel_22884/1718314899.py\u001b[0m in \u001b[0;36msplit\u001b[1;34m(self)\u001b[0m\n\u001b[0;32m     52\u001b[0m     \u001b[1;32mdef\u001b[0m \u001b[0msplit\u001b[0m\u001b[1;33m(\u001b[0m\u001b[0mself\u001b[0m\u001b[1;33m)\u001b[0m\u001b[1;33m:\u001b[0m\u001b[1;33m\u001b[0m\u001b[1;33m\u001b[0m\u001b[0m\n\u001b[0;32m     53\u001b[0m         \u001b[0mself\u001b[0m\u001b[1;33m.\u001b[0m\u001b[0mind\u001b[0m \u001b[1;33m=\u001b[0m \u001b[0mself\u001b[0m\u001b[1;33m.\u001b[0m\u001b[0mfind_best_feature\u001b[0m\u001b[1;33m(\u001b[0m\u001b[1;33m)\u001b[0m\u001b[1;33m\u001b[0m\u001b[1;33m\u001b[0m\u001b[0m\n\u001b[1;32m---> 54\u001b[1;33m         \u001b[0mself\u001b[0m\u001b[1;33m.\u001b[0m\u001b[0mthreshold\u001b[0m \u001b[1;33m=\u001b[0m \u001b[0mself\u001b[0m\u001b[1;33m.\u001b[0m\u001b[0mfind_threshold_split\u001b[0m\u001b[1;33m(\u001b[0m\u001b[0mself\u001b[0m\u001b[1;33m.\u001b[0m\u001b[0mind\u001b[0m\u001b[1;33m)\u001b[0m\u001b[1;33m\u001b[0m\u001b[1;33m\u001b[0m\u001b[0m\n\u001b[0m\u001b[0;32m     55\u001b[0m \u001b[1;33m\u001b[0m\u001b[0m\n\u001b[0;32m     56\u001b[0m         \u001b[0mfltr_left\u001b[0m \u001b[1;33m=\u001b[0m \u001b[0mself\u001b[0m\u001b[1;33m.\u001b[0m\u001b[0mx\u001b[0m\u001b[1;33m[\u001b[0m\u001b[0mself\u001b[0m\u001b[1;33m.\u001b[0m\u001b[0mind\u001b[0m\u001b[1;33m]\u001b[0m \u001b[1;33m<=\u001b[0m \u001b[0mself\u001b[0m\u001b[1;33m.\u001b[0m\u001b[0mthreshold\u001b[0m\u001b[1;33m\u001b[0m\u001b[1;33m\u001b[0m\u001b[0m\n",
      "\u001b[1;32m~\\AppData\\Local\\Temp/ipykernel_22884/1718314899.py\u001b[0m in \u001b[0;36mfind_threshold_split\u001b[1;34m(self, ind)\u001b[0m\n\u001b[0;32m     39\u001b[0m             \u001b[0mfltr_right\u001b[0m \u001b[1;33m=\u001b[0m \u001b[0mx\u001b[0m\u001b[1;33m[\u001b[0m\u001b[0mind\u001b[0m\u001b[1;33m]\u001b[0m \u001b[1;33m>\u001b[0m \u001b[0mx\u001b[0m\u001b[1;33m[\u001b[0m\u001b[0mind\u001b[0m\u001b[1;33m]\u001b[0m\u001b[1;33m[\u001b[0m\u001b[0mi\u001b[0m\u001b[1;33m]\u001b[0m\u001b[1;33m\u001b[0m\u001b[1;33m\u001b[0m\u001b[0m\n\u001b[0;32m     40\u001b[0m \u001b[1;33m\u001b[0m\u001b[0m\n\u001b[1;32m---> 41\u001b[1;33m             \u001b[0mvar_left\u001b[0m \u001b[1;33m=\u001b[0m \u001b[0mnp\u001b[0m\u001b[1;33m.\u001b[0m\u001b[0mvar\u001b[0m\u001b[1;33m(\u001b[0m\u001b[0mY\u001b[0m\u001b[1;33m[\u001b[0m\u001b[0mfltr_left\u001b[0m\u001b[1;33m]\u001b[0m\u001b[1;33m)\u001b[0m\u001b[1;33m\u001b[0m\u001b[1;33m\u001b[0m\u001b[0m\n\u001b[0m\u001b[0;32m     42\u001b[0m             \u001b[0mvar_right\u001b[0m \u001b[1;33m=\u001b[0m \u001b[0mnp\u001b[0m\u001b[1;33m.\u001b[0m\u001b[0mvar\u001b[0m\u001b[1;33m(\u001b[0m\u001b[0mY\u001b[0m\u001b[1;33m[\u001b[0m\u001b[0mfltr_right\u001b[0m\u001b[1;33m]\u001b[0m\u001b[1;33m)\u001b[0m\u001b[1;33m\u001b[0m\u001b[1;33m\u001b[0m\u001b[0m\n\u001b[0;32m     43\u001b[0m \u001b[1;33m\u001b[0m\u001b[0m\n",
      "\u001b[1;31mIndexError\u001b[0m: boolean index did not match indexed array along dimension 0; dimension is 10000 but corresponding boolean dimension is 100"
     ]
    }
   ],
   "source": [
    "x, y = generate_data(100, 6)\n",
    "dt = DecisionTree(x, y, 1)"
   ]
  },
  {
   "cell_type": "code",
   "execution_count": 103,
   "id": "502a591f",
   "metadata": {},
   "outputs": [
    {
     "data": {
      "text/plain": [
       "10000"
      ]
     },
     "execution_count": 103,
     "metadata": {},
     "output_type": "execute_result"
    }
   ],
   "source": [
    "len(Y)"
   ]
  },
  {
   "cell_type": "code",
   "execution_count": null,
   "id": "2e1a864f",
   "metadata": {},
   "outputs": [],
   "source": []
  }
 ],
 "metadata": {
  "kernelspec": {
   "display_name": "Python 3 (ipykernel)",
   "language": "python",
   "name": "python3"
  },
  "language_info": {
   "codemirror_mode": {
    "name": "ipython",
    "version": 3
   },
   "file_extension": ".py",
   "mimetype": "text/x-python",
   "name": "python",
   "nbconvert_exporter": "python",
   "pygments_lexer": "ipython3",
   "version": "3.9.7"
  }
 },
 "nbformat": 4,
 "nbformat_minor": 5
}
