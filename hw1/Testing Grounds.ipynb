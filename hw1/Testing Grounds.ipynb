{
 "cells": [
  {
   "cell_type": "code",
   "execution_count": 32,
   "id": "1e22a894",
   "metadata": {},
   "outputs": [
    {
     "data": {
      "text/plain": [
       "{'divide': 'raise', 'over': 'raise', 'under': 'raise', 'invalid': 'raise'}"
      ]
     },
     "execution_count": 32,
     "metadata": {},
     "output_type": "execute_result"
    }
   ],
   "source": [
    "import math\n",
    "import numpy as np\n",
    "from collections import defaultdict\n",
    "import matplotlib.pyplot as plt\n",
    "import copy\n",
    "np.seterr(all='raise')"
   ]
  },
  {
   "cell_type": "code",
   "execution_count": 33,
   "id": "65560531",
   "metadata": {},
   "outputs": [],
   "source": [
    "def cov(x, y):\n",
    "    #definition of cov(x, y) = E[xy] - E[x]E[y]\n",
    "    return np.mean(x * y) - np.mean(x) * np.mean(y)\n",
    "\n",
    "def corr(x, y):\n",
    "    #corr(x, y) = cov(x, y) / sqrt(var(x) * var(y))\n",
    "    #var(y) == 0 --> this edge case is checked in the decision tree algorithm\n",
    "    #var(y) == 0 --> implies very high correlation in that set of data\n",
    "    #var(x) == 0 --> implies very low correlation in that set of data (hence we return 0 on this)\n",
    "    if np.var(x) == 0:\n",
    "        return 0\n",
    "    return cov(x, y) / math.sqrt(np.var(x) * np.var(y))\n",
    "\n",
    "def generate_data(size, d):\n",
    "    x = []\n",
    "    x.append(np.random.normal(3, 1, size))\n",
    "    x.append(np.random.normal(-2, 1, size))\n",
    "    x.append(x[0] + 2 * x[1])\n",
    "    x.append((x[1] + 2)**2)\n",
    "    x.append(np.random.binomial(n=1, p=0.8, size=size))\n",
    "    for _ in range(d - 5):\n",
    "        x.append(np.random.normal(0, 0.1, size))\n",
    "\n",
    "    def compute_y(x):\n",
    "        y = 4 - 3 * x[0] * x[0] + x[2] - 0.01 * x[3] + x[1] * x[4] + np.random.normal(0, 0.1, len(x[0]))\n",
    "        return y\n",
    "    \n",
    "    def transpose(temp):\n",
    "        temp = np.array(temp)\n",
    "        return temp.T\n",
    "    \n",
    "    xt = transpose(x)\n",
    "    y = compute_y(x)\n",
    "    \n",
    "    return x, xt, y"
   ]
  },
  {
   "cell_type": "code",
   "execution_count": 106,
   "id": "a8255352",
   "metadata": {},
   "outputs": [],
   "source": [
    "class DecisionTree():   \n",
    "    def __init__(self, x, y, d, max_depth, min_sample_size):\n",
    "        if d == 1:\n",
    "            print(superfluous)\n",
    "        self.x = x\n",
    "        self.y = y\n",
    "        \n",
    "        self.max_depth = max_depth\n",
    "        self.min_sample_size = min_sample_size\n",
    "        self.depth = d \n",
    "        self.child = len(self.x[0]) <= self.min_sample_size or self.depth == self.max_depth or np.var(y) == 0\n",
    "        \n",
    "        self.ind = -1\n",
    "        self.threshold = 0\n",
    "        \n",
    "        self.result = np.mean(y)\n",
    "        self.left, self.right = None, None\n",
    "\n",
    "        if not self.child:\n",
    "            self.split()\n",
    "    \n",
    "    def find_best_feature(self):\n",
    "        all_corr = [abs(corr(xi, self.y)) for xi in self.x]\n",
    "        return np.argmax(all_corr)\n",
    "    \n",
    "    def find_threshold_split(self, ind):\n",
    "        indices = self.x[ind].argsort()\n",
    "        \n",
    "        for i in range(len(self.x)):\n",
    "            self.x[i] = self.x[i][indices]\n",
    "        self.y = self.y[indices]\n",
    "        \n",
    "        threshold = -1\n",
    "        mn = float('inf')\n",
    "\n",
    "        for i in range(len(self.y) - 1):\n",
    "            fltr_left = self.x[ind] <= self.x[ind][i]\n",
    "            fltr_right = self.x[ind] > self.x[ind][i]\n",
    "            \n",
    "            left = np.sum(fltr_left)\n",
    "            right = np.sum(fltr_right)              \n",
    "            \n",
    "            var_left = np.var(self.y[fltr_left])\n",
    "            var_right = 0 if right == 0 else np.var(self.y[fltr_right]) \n",
    "\n",
    "            err_left = left / len(self.y) * var_left\n",
    "            err_right = right / len(self.y) * var_right\n",
    "            \n",
    "            err = err_left + err_right\n",
    "            \n",
    "            if err < mn:\n",
    "                threshold, mn = (self.x[ind][i] + self.x[ind][i + 1]) / 2, err\n",
    "        return threshold\n",
    "    \n",
    "     \n",
    "    def split(self):\n",
    "        se\n",
    "        if self.ind > 4:\n",
    "            superfluous[self.ind] += 1\n",
    "\n",
    "        self.threshold = self.find_threshold_split(self.ind)\n",
    "\n",
    "        fltr_left = self.x[self.ind] <= self.threshold\n",
    "        fltr_right = self.x[self.ind] > self.threshold\n",
    "                \n",
    "        x_left = [arr[fltr_left] for arr in self.x]\n",
    "        x_right = [arr[fltr_right] for arr in self.x]\n",
    "            \n",
    "        y_left = self.y[fltr_left]\n",
    "        y_right = self.y[fltr_right]\n",
    "        \n",
    "        self.left = DecisionTree(x_left, y_left, self.depth + 1, self.max_depth, self.min_sample_size)\n",
    "        self.right = DecisionTree(x_right, y_right, self.depth + 1, self.max_depth, self.min_sample_size)\n",
    "\n",
    "    @staticmethod\n",
    "    def predict(node, arr):\n",
    "        if node.child:\n",
    "            return node.result\n",
    "        if arr[node.ind] <= node.threshold:\n",
    "            return DecisionTree.predict(node.left, arr)\n",
    "        else:\n",
    "            return DecisionTree.predict(node.right, arr)"
   ]
  },
  {
   "cell_type": "code",
   "execution_count": 4,
   "id": "2116c639",
   "metadata": {},
   "outputs": [],
   "source": [
    "def compute_mse_dt(x, y, dt):\n",
    "    err = 0 #error\n",
    "    for i in range(len(y)):\n",
    "        yp = DecisionTree.predict(dt, x[i]) #get prediction from decision tree\n",
    "        err += (abs(yp - y[i]) ** 2) #add squared error\n",
    "    err = err / len(y) #take mean of squared error\n",
    "    return err"
   ]
  },
  {
   "cell_type": "code",
   "execution_count": 59,
   "id": "cd6f718f",
   "metadata": {},
   "outputs": [],
   "source": [
    "def question1():\n",
    "    y = y10\n",
    "    testy = testy10\n",
    "    #constant model = the mean of y values (explained in pdf)\n",
    "    optimal_c = np.mean(y)\n",
    "    #function that computes the MSE of a given constant model\n",
    "    def compute_mse_constant_model(y, c):\n",
    "        err = 0\n",
    "        for i in range(len(y)):\n",
    "            err += (c - y[i]) ** 2\n",
    "        err = err / len(y) #take average of squared sum\n",
    "        return err\n",
    "    \n",
    "    #Find the errors of both training and testing\n",
    "    training_error = compute_mse_constant_model(y, optimal_c)\n",
    "    testing_error = compute_mse_constant_model(testy, optimal_c)\n",
    "    \n",
    "    #Print\n",
    "    print('Optimal C: ', optimal_c)\n",
    "    print('Training Error: ', training_error)\n",
    "    print('Testing Error: ', testing_error)\n",
    "  \n",
    "    return optimal_c, training_error, testing_error"
   ]
  },
  {
   "cell_type": "code",
   "execution_count": 60,
   "id": "966c43e8",
   "metadata": {},
   "outputs": [
    {
     "name": "stdout",
     "output_type": "stream",
     "text": [
      "Optimal C:  -28.533212679883405\n",
      "Training Error:  316.9608408641263\n",
      "Testing Error:  327.8508124523598\n"
     ]
    },
    {
     "data": {
      "text/plain": [
       "(-28.533212679883405, 316.9608408641263, 327.8508124523598)"
      ]
     },
     "execution_count": 60,
     "metadata": {},
     "output_type": "execute_result"
    }
   ],
   "source": [
    "question1()"
   ]
  },
  {
   "cell_type": "code",
   "execution_count": 72,
   "id": "411690f5",
   "metadata": {},
   "outputs": [],
   "source": [
    "def question2():\n",
    "    train_errors = []\n",
    "    test_errors = []\n",
    "    \n",
    "    x = x_train10\n",
    "    y = y10\n",
    "    \n",
    "    tx = tx_test10\n",
    "    testy = testy10\n",
    "    \n",
    "    xt = tx_train10\n",
    "    \n",
    "    for i in range(1, 30):    \n",
    "        print('Iteration: ', i)\n",
    "        #provide copies of the data (we want to use the same dataset on each tree)\n",
    "        dt = DecisionTree(copy.deepcopy(x), copy.deepcopy(y), 1, i, 1)\n",
    "        \n",
    "        #compute errors\n",
    "        training_err = compute_mse_dt(xt, y, dt)\n",
    "        test_err = compute_mse_dt(tx, testy, dt)\n",
    "        \n",
    "        train_errors.append(training_err)\n",
    "        test_errors.append(test_err)\n",
    "    \n",
    "    #build plot (can be seen in pdf)\n",
    "    plt.figure(figsize = (6, 10), dpi = 80)\n",
    "    plt.title('Training/Testing MSE on Decision Tree with varying depth')\n",
    "    plt.plot(train_errors, '-b', label = 'Train')\n",
    "    plt.plot(test_errors, '--r', label = 'Test')\n",
    "    plt.xlabel('Depth')\n",
    "    plt.ylabel('Training/Testing MSE')\n",
    "    plt.legend()\n",
    "    plt.show()\n",
    "    \n",
    "    return train_errors, test_errors"
   ]
  },
  {
   "cell_type": "code",
   "execution_count": 73,
   "id": "4dbe8bf5",
   "metadata": {},
   "outputs": [
    {
     "name": "stdout",
     "output_type": "stream",
     "text": [
      "Iteration:  1\n",
      "Iteration:  2\n",
      "Iteration:  3\n",
      "Iteration:  4\n",
      "Iteration:  5\n",
      "Iteration:  6\n",
      "Iteration:  7\n",
      "Iteration:  8\n",
      "Iteration:  9\n",
      "Iteration:  10\n",
      "Iteration:  11\n",
      "Iteration:  12\n",
      "Iteration:  13\n",
      "Iteration:  14\n",
      "Iteration:  15\n",
      "Iteration:  16\n",
      "Iteration:  17\n",
      "Iteration:  18\n",
      "Iteration:  19\n",
      "Iteration:  20\n",
      "Iteration:  21\n",
      "Iteration:  22\n",
      "Iteration:  23\n",
      "Iteration:  24\n",
      "Iteration:  25\n",
      "Iteration:  26\n",
      "Iteration:  27\n",
      "Iteration:  28\n",
      "Iteration:  29\n"
     ]
    },
    {
     "data": {
      "image/png": "[encoded data removed]",
      "text/plain": [
       "<Figure size 480x800 with 1 Axes>"
      ]
     },
     "metadata": {
      "needs_background": "light"
     },
     "output_type": "display_data"
    },
    {
     "name": "stdout",
     "output_type": "stream",
     "text": [
      "316.9608408641263   327.8508124523598\n",
      "116.77375547488393   115.66207026487284\n",
      "42.36475127951115   41.91968593997631\n",
      "18.301632561637263   17.602661360664868\n",
      "10.19400592332933   10.801180467540311\n",
      "5.617318041505871   5.76579717169987\n",
      "3.45344826674579   3.8220094782070007\n",
      "1.9687266197671491   2.2359071286072356\n",
      "1.0776327786282682   1.4711592271735041\n",
      "0.5388582860795361   0.9897468068344495\n",
      "0.25050377355723896   0.6979014994086987\n",
      "0.10865385257161818   0.5278042384625765\n",
      "0.04433060779949975   0.4638619635501323\n",
      "0.016135269488133937   0.45109585187851364\n",
      "0.005284454438529201   0.44734596663113774\n",
      "0.0015794552740927977   0.44522788487159115\n",
      "0.000395199032619274   0.443845674114742\n",
      "6.974724927684455e-05   0.44385202621248454\n",
      "7.784773524292967e-06   0.44408875167111983\n",
      "8.936665245430212e-07   0.44400498140472966\n",
      "1.2304484629633835e-12   0.4439596592084996\n",
      "0.0   0.4439596592084996\n",
      "0.0   0.4439596592084996\n",
      "0.0   0.4439596592084996\n",
      "0.0   0.4439596592084996\n",
      "0.0   0.4439596592084996\n",
      "0.0   0.4439596592084996\n",
      "0.0   0.4439596592084996\n",
      "0.0   0.4439596592084996\n"
     ]
    }
   ],
   "source": [
    "train_2, test_2 = question2()\n",
    "for i in range(len(train_2)):\n",
    "    print(train_2[i], ' ', test_2[i])"
   ]
  },
  {
   "cell_type": "code",
   "execution_count": 78,
   "id": "339d1ce6",
   "metadata": {},
   "outputs": [
    {
     "name": "stdout",
     "output_type": "stream",
     "text": [
      "Testing Errors for increasing maximum depth: \n",
      "1   316.9608408641263   327.8508124523598\n",
      "2   116.77375547488393   115.66207026487284\n",
      "3   42.36475127951115   41.91968593997631\n",
      "4   18.301632561637263   17.602661360664868\n",
      "5   10.19400592332933   10.801180467540311\n",
      "6   5.617318041505871   5.76579717169987\n",
      "7   3.45344826674579   3.8220094782070007\n",
      "8   1.9687266197671491   2.2359071286072356\n",
      "9   1.0776327786282682   1.4711592271735041\n",
      "10   0.5388582860795361   0.9897468068344495\n",
      "11   0.25050377355723896   0.6979014994086987\n",
      "12   0.10865385257161818   0.5278042384625765\n",
      "13   0.04433060779949975   0.4638619635501323\n",
      "14   0.016135269488133937   0.45109585187851364\n",
      "15   0.005284454438529201   0.44734596663113774\n",
      "16   0.0015794552740927977   0.44522788487159115\n",
      "17   0.000395199032619274   0.443845674114742\n",
      "18   6.974724927684455e-05   0.44385202621248454\n",
      "19   7.784773524292967e-06   0.44408875167111983\n",
      "20   8.936665245430212e-07   0.44400498140472966\n",
      "21   1.2304484629633835e-12   0.4439596592084996\n",
      "22   0.0   0.4439596592084996\n",
      "23   0.0   0.4439596592084996\n",
      "24   0.0   0.4439596592084996\n",
      "25   0.0   0.4439596592084996\n",
      "26   0.0   0.4439596592084996\n",
      "27   0.0   0.4439596592084996\n",
      "28   0.0   0.4439596592084996\n",
      "29   0.0   0.4439596592084996\n"
     ]
    }
   ],
   "source": [
    "print('Testing Errors for increasing maximum depth: ')\n",
    "for i in range(len(train_2)):\n",
    "    print(i + 1, ' ', train_2[i], ' ', test_2[i])"
   ]
  },
  {
   "cell_type": "code",
   "execution_count": 75,
   "id": "16ecfbc6",
   "metadata": {},
   "outputs": [
    {
     "name": "stdout",
     "output_type": "stream",
     "text": [
      "Iteration:  1\n",
      "Iteration:  2\n",
      "Iteration:  3\n",
      "Iteration:  4\n",
      "Iteration:  5\n",
      "Iteration:  6\n",
      "Iteration:  7\n",
      "Iteration:  8\n",
      "Iteration:  9\n",
      "Iteration:  10\n",
      "Iteration:  11\n",
      "Iteration:  12\n",
      "Iteration:  13\n",
      "Iteration:  14\n",
      "Iteration:  15\n",
      "Iteration:  16\n",
      "Iteration:  17\n",
      "Iteration:  18\n",
      "Iteration:  19\n",
      "Iteration:  20\n",
      "Iteration:  21\n",
      "Iteration:  22\n",
      "Iteration:  23\n",
      "Iteration:  24\n",
      "Iteration:  25\n",
      "Iteration:  26\n",
      "Iteration:  27\n",
      "Iteration:  28\n",
      "Iteration:  29\n"
     ]
    },
    {
     "data": {
      "image/png": "[encoded data removed]",
      "text/plain": [
       "<Figure size 480x800 with 1 Axes>"
      ]
     },
     "metadata": {
      "needs_background": "light"
     },
     "output_type": "display_data"
    },
    {
     "name": "stdout",
     "output_type": "stream",
     "text": [
      "Iteration:  1\n",
      "Iteration:  2\n",
      "Iteration:  3\n",
      "Iteration:  4\n",
      "Iteration:  5\n",
      "Iteration:  6\n",
      "Iteration:  7\n",
      "Iteration:  8\n",
      "Iteration:  9\n",
      "Iteration:  10\n",
      "Iteration:  11\n",
      "Iteration:  12\n",
      "Iteration:  13\n",
      "Iteration:  14\n",
      "Iteration:  15\n",
      "Iteration:  16\n",
      "Iteration:  17\n",
      "Iteration:  18\n",
      "Iteration:  19\n",
      "Iteration:  20\n",
      "Iteration:  21\n",
      "Iteration:  22\n",
      "Iteration:  23\n",
      "Iteration:  24\n",
      "Iteration:  25\n",
      "Iteration:  26\n",
      "Iteration:  27\n"
     ]
    },
    {
     "data": {
      "image/png": "[encoded data removed]",
      "text/plain": [
       "<Figure size 480x800 with 1 Axes>"
      ]
     },
     "metadata": {
      "needs_background": "light"
     },
     "output_type": "display_data"
    }
   ],
   "source": [
    "def question5():\n",
    "    x = x_train50\n",
    "    y = y50\n",
    "    \n",
    "    tx = tx_test50\n",
    "    testy = testy50\n",
    "    \n",
    "    xt = tx_train50\n",
    "\n",
    "    def question5_depth():\n",
    "        train_errors = []\n",
    "        test_errors = []\n",
    "        \n",
    "        for i in range(1, 30):    \n",
    "            print('Iteration: ', i)\n",
    "            #provide copies of the data (we want to use the same dataset on each tree)\n",
    "            dt = DecisionTree(copy.deepcopy(x), copy.deepcopy(y), 1, i, 1)\n",
    "            \n",
    "            #compute errors\n",
    "            training_err = compute_mse_dt(xt, y, dt)\n",
    "            test_err = compute_mse_dt(tx, testy, dt)\n",
    "            \n",
    "            train_errors.append(training_err)\n",
    "            test_errors.append(test_err)\n",
    "        \n",
    "        #build plot (can be seen in pdf)\n",
    "        plt.figure(figsize = (6, 10), dpi = 80)\n",
    "        plt.title('Training/Testing MSE on Decision Tree with varying depth')\n",
    "        plt.plot(train_errors, '-b', label = 'Train')\n",
    "        plt.plot(test_errors, '--r', label = 'Test')\n",
    "        plt.xlabel('Depth')\n",
    "        plt.ylabel('Training/Testing MSE')\n",
    "        plt.legend()\n",
    "        plt.show()\n",
    "        \n",
    "        return train_errors, test_errors\n",
    "\n",
    "    def question5_sample_size():\n",
    "        train_errors = []\n",
    "        test_errors = []\n",
    "        \n",
    "        #set of sample sizes that we will build decision trees out of\n",
    "        #note that these are a set of decreasing and somewhat random numbers (more explanation in pdf)\n",
    "        sample_sizes = sample_sizes = [10000, 5000, 2500, 1250, 625, 300, 200, 150, 100, 50, 25, 20, 15, 14, 13, 12, 11, 10, 9, 8, 7, 6, 5, 4, 3, 2, 1]\n",
    "        \n",
    "        iteration = 0\n",
    "        for sample_size in sample_sizes: #iterate through each sample size\n",
    "            #build decision tree with copies of dataset\n",
    "            dt = DecisionTree(copy.deepcopy(x), copy.deepcopy(y), 1, 30, sample_size)\n",
    "            iteration += 1\n",
    "            print('Iteration: ', iteration)\n",
    "            #compute and store errors\n",
    "            training_err = compute_mse_dt(xt, y, dt)\n",
    "            test_err = compute_mse_dt(tx, testy, dt)\n",
    "            train_errors.append(training_err)\n",
    "            test_errors.append(test_err)\n",
    "        \n",
    "        #build plots\n",
    "        plt.figure(figsize = (6, 10), dpi=80)\n",
    "        plt.title('Training/Testing MSE on Decision Tree with varying sample size')\n",
    "        plt.plot(sample_sizes, train_errors, '-b', label = 'Train')\n",
    "        plt.plot(sample_sizes, test_errors, '--r', label = 'Test')\n",
    "        plt.xlabel('Sample Size')\n",
    "        plt.ylabel('Training/Testing MSE')\n",
    "        plt.legend()\n",
    "        plt.show()\n",
    "        \n",
    "        return train_errors, test_errors\n",
    "    \n",
    "    train_depth, test_depth = question5_depth()\n",
    "    train_size, test_size = question5_sample_size()\n",
    "    return train_depth, test_depth, train_size, test_size\n",
    "\n",
    "train_depth, test_depth, train_size, test_size = question5()"
   ]
  },
  {
   "cell_type": "code",
   "execution_count": 74,
   "id": "b4307158",
   "metadata": {},
   "outputs": [
    {
     "name": "stdout",
     "output_type": "stream",
     "text": [
      "Iteration:  1\n",
      "Iteration:  2\n",
      "Iteration:  3\n",
      "Iteration:  4\n",
      "Iteration:  5\n",
      "Iteration:  6\n",
      "Iteration:  7\n",
      "Iteration:  8\n",
      "Iteration:  9\n",
      "Iteration:  10\n",
      "Iteration:  11\n",
      "Iteration:  12\n",
      "Iteration:  13\n",
      "Iteration:  14\n",
      "Iteration:  15\n",
      "Iteration:  16\n",
      "Iteration:  17\n",
      "Iteration:  18\n",
      "Iteration:  19\n",
      "Iteration:  20\n",
      "Iteration:  21\n",
      "Iteration:  22\n",
      "Iteration:  23\n",
      "Iteration:  24\n",
      "Iteration:  25\n",
      "Iteration:  26\n",
      "Iteration:  27\n"
     ]
    },
    {
     "data": {
      "image/png": "[encoded data removed]",
      "text/plain": [
       "<Figure size 480x800 with 1 Axes>"
      ]
     },
     "metadata": {
      "needs_background": "light"
     },
     "output_type": "display_data"
    },
    {
     "name": "stdout",
     "output_type": "stream",
     "text": [
      "316.9608408641263   327.8508124523598\n",
      "80.64769017908375   81.75894601269162\n",
      "31.961880391419598   31.84309544127558\n",
      "21.14929041132909   19.567111999993518\n",
      "9.732966250058272   8.128676434549385\n",
      "6.3492310103585075   4.890940186363673\n",
      "5.626507877240371   4.168813643847253\n",
      "2.680953164859119   2.8842046270716732\n",
      "2.0635777894382046   2.2158829576343986\n",
      "1.2103675350166756   1.429296250155443\n",
      "0.48724544663952135   0.7103019288807929\n",
      "0.39034600185220447   0.5963078942587304\n",
      "0.3032476226707787   0.4849140612747549\n",
      "0.2756713815308897   0.47866622278138526\n",
      "0.25311397104230066   0.4609138519261583\n",
      "0.2237879230185075   0.45320117543655314\n",
      "0.19966071003625957   0.43263572353917157\n",
      "0.173587873585849   0.428633534981996\n",
      "0.13377456763767248   0.4135540577283883\n",
      "0.11479469146173649   0.4252220913771773\n",
      "0.09043660927817611   0.3874590399601913\n",
      "0.07191434959186309   0.37563018490266514\n",
      "0.05443858800724401   0.4009819919867448\n",
      "0.03452170930274354   0.39654438869337094\n",
      "0.017473960570130672   0.41278962327558183\n",
      "0.0067945187007445096   0.4417406744425394\n",
      "0.0   0.4439596592084996\n"
     ]
    }
   ],
   "source": [
    "def question3():\n",
    "\n",
    "    train_errors = []\n",
    "    test_errors = []\n",
    "    \n",
    "    x = x_train10\n",
    "    y = y10\n",
    "    \n",
    "    tx = tx_test10\n",
    "    testy = testy10\n",
    "    \n",
    "    xt = tx_train10\n",
    "    \n",
    "    #set of sample sizes that we will build decision trees out of\n",
    "    #note that these are a set of decreasing and somewhat random numbers (more explanation in pdf)\n",
    "    sample_sizes = [10000, 5000, 2500, 1250, 625, 300, 200, 150, 100, 50, 25, 20, 15, 14, 13, 12, 11, 10, 9, 8, 7, 6, 5, 4, 3, 2, 1]\n",
    "    \n",
    "    #generate dataset\n",
    "    #x and y are used for the decision tree\n",
    "    #xt is transpose of training dataset\n",
    "    #tx (transpose of test dataset) and testy are a part of testing dataset\n",
    "    iteration = 0\n",
    "    for sample_size in sample_sizes: #iterate through each sample size\n",
    "        #build decision tree with copies of dataset\n",
    "        iteration += 1\n",
    "        print('Iteration: ', iteration)\n",
    "        dt = DecisionTree(copy.deepcopy(x), copy.deepcopy(y), 1, 30, sample_size)\n",
    "        \n",
    "        #compute and store errors\n",
    "        training_err = compute_mse_dt(xt, y, dt)\n",
    "        test_err = compute_mse_dt(tx, testy, dt)\n",
    "        train_errors.append(training_err)\n",
    "        test_errors.append(test_err)\n",
    "    \n",
    "    #build plots\n",
    "    plt.figure(figsize = (6, 10), dpi=80)\n",
    "    plt.title('Training/Testing MSE on Decision Tree with varying sample size')\n",
    "    plt.plot(sample_sizes, train_errors, '-b', label = 'Train')\n",
    "    plt.plot(sample_sizes, test_errors, '--r', label = 'Test')\n",
    "    plt.xlabel('Sample Size')\n",
    "    plt.ylabel('Training/Testing MSE')\n",
    "    plt.legend()\n",
    "    plt.show()\n",
    "    \n",
    "    return train_errors, test_errors\n",
    "train_3, test_3 = question3()\n",
    "for i in range(len(train_3)):\n",
    "    print(train_3[i], ' ', test_3[i])"
   ]
  },
  {
   "cell_type": "code",
   "execution_count": 11,
   "id": "328af0aa",
   "metadata": {},
   "outputs": [
    {
     "name": "stdout",
     "output_type": "stream",
     "text": [
      "317.3132236650482   347.88440387643146\n",
      "83.09375368268236   94.21281827666772\n",
      "26.616145312222443   29.70921991411963\n",
      "22.100695311410988   24.733740308874157\n",
      "9.977454816994921   11.784222824956322\n",
      "6.288753992960299   8.450457736614503\n",
      "5.355614177607693   7.59359084493859\n",
      "3.018624062080678   3.8359552051234855\n",
      "2.013255282568809   2.8320154763325207\n",
      "1.2344955184769335   1.917537920674577\n",
      "0.5126727359179681   0.9482471243462239\n",
      "0.4102322419656113   0.8390330192269922\n",
      "0.31723376283269994   0.7318526330670351\n",
      "0.30293077972499544   0.6996303487471033\n",
      "0.2781390209255685   0.6579055542248291\n",
      "0.26504254061081084   0.6417840806047623\n",
      "0.24733807421480405   0.630558130961831\n",
      "0.23045031249538928   0.6162869828402697\n",
      "0.20907832164380544   0.5921537842437654\n",
      "0.12398087359982445   0.49035721360735113\n",
      "0.09720834818998716   0.4660130427855551\n",
      "0.0722793263483294   0.5095373227635251\n",
      "0.055547090493567854   0.48875628053681164\n",
      "0.03660243922854682   0.4924127203182494\n",
      "0.02382206950441954   0.4545620531193703\n",
      "0.009835198870531811   0.45119854660214315\n",
      "0.0   0.4477714956429208\n"
     ]
    }
   ],
   "source": [
    "for i in range(len(train)):\n",
    "    print(train[i], ' ', test[i])"
   ]
  },
  {
   "cell_type": "code",
   "execution_count": 80,
   "id": "65fe3441",
   "metadata": {},
   "outputs": [
    {
     "name": "stdout",
     "output_type": "stream",
     "text": [
      "Testing/Training Error on different sample sizes\n",
      "10000   316.9608408641263   327.8508124523598\n",
      "5000   80.64769017908375   81.75894601269162\n",
      "2500   31.961880391419598   31.84309544127558\n",
      "1250   21.14929041132909   19.567111999993518\n",
      "625   9.732966250058272   8.128676434549385\n",
      "300   6.3492310103585075   4.890940186363673\n",
      "200   5.626507877240371   4.168813643847253\n",
      "150   2.680953164859119   2.8842046270716732\n",
      "100   2.0635777894382046   2.2158829576343986\n",
      "50   1.2103675350166756   1.429296250155443\n",
      "25   0.4874306597645412   0.711508074777081\n",
      "20   0.3905286671847874   0.603424247948223\n",
      "15   0.3023087932276454   0.5169083358236971\n",
      "14   0.27383909904488185   0.515441125161942\n",
      "13   0.25177075880709715   0.4998943716184985\n",
      "12   0.22090254764686984   0.5040136678756877\n",
      "11   0.19682440103698753   0.5019431864325975\n",
      "10   0.17551904194980125   0.4984347879003914\n",
      "9   0.13163806177461837   0.49140997297360633\n",
      "8   0.11104783250053755   0.5215930079427815\n",
      "7   0.08321824460384293   0.5307383300968601\n",
      "6   0.06305698781954848   0.5329167080161376\n",
      "5   0.04715932416660075   0.534383359385249\n",
      "4   0.027672318935349268   0.5561876903585746\n",
      "3   0.015074403469852985   0.5658268452403195\n",
      "2   0.004977914697610046   0.5817181998401258\n",
      "1   0.0   0.5948023236964005\n"
     ]
    }
   ],
   "source": [
    "sample_sizes = [10000, 5000, 2500, 1250, 625, 300, 200, 150, 100, 50, 25, 20, 15, 14, 13, 12, 11, 10, 9, 8, 7, 6, 5, 4, 3, 2, 1]\n",
    "print('Testing/Training Error on different sample sizes')\n",
    "for i in range(len(train_size)):\n",
    "    print(sample_sizes[i], ' ', train_size[i], ' ', test_size[i])"
   ]
  },
  {
   "cell_type": "code",
   "execution_count": 79,
   "id": "c8e3930a",
   "metadata": {},
   "outputs": [
    {
     "name": "stdout",
     "output_type": "stream",
     "text": [
      "Testing/Training Error on different depth\n",
      "1   316.9608408641263   327.8508124523598\n",
      "2   116.77375547488393   115.66207026487284\n",
      "3   42.36475127951115   41.91968593997631\n",
      "4   18.301632561637263   17.602661360664868\n",
      "5   10.19400592332933   10.801180467540311\n",
      "6   5.617318041505871   5.76579717169987\n",
      "7   3.45344826674579   3.8220094782070007\n",
      "8   1.9684274090179104   2.2359071286072356\n",
      "9   1.075067626275039   1.4711316297934909\n",
      "10   0.536364351073642   0.9342404422134372\n",
      "11   0.24868951839817874   0.6836020936518177\n",
      "12   0.10522713198941014   0.5846356692323268\n",
      "13   0.04160980442573921   0.5653284165383163\n",
      "14   0.014227174982224   0.5832441136530899\n",
      "15   0.004075581781068561   0.5883510932593724\n",
      "16   0.0009515536818286948   0.5924676000939841\n",
      "17   0.0001652857422564806   0.5939564581568467\n",
      "18   2.596452691906264e-05   0.5943924586330853\n",
      "19   2.9175280917898916e-06   0.5947443084674715\n",
      "20   2.8930251247767135e-07   0.5947952668554597\n",
      "21   4.043174164085218e-08   0.5948021008733058\n",
      "22   6.876638470564277e-10   0.5948023236964005\n",
      "23   1.2304484629633835e-12   0.5948023236964005\n",
      "24   0.0   0.5948023236964005\n",
      "25   0.0   0.5948023236964005\n",
      "26   0.0   0.5948023236964005\n",
      "27   0.0   0.5948023236964005\n",
      "28   0.0   0.5948023236964005\n",
      "29   0.0   0.5948023236964005\n"
     ]
    }
   ],
   "source": [
    "print('Testing/Training Error on different depth')\n",
    "for i in range(len(train_depth)):\n",
    "    print(i + 1, ' ', train_depth[i], ' ', test_depth[i])"
   ]
  },
  {
   "cell_type": "code",
   "execution_count": 54,
   "id": "3371b851",
   "metadata": {},
   "outputs": [],
   "source": [
    "x_train50, tx_train50, y50 = generate_data(10000, 50)\n",
    "x_test50, tx_test50, testy50 = generate_data(1000, 50)"
   ]
  },
  {
   "cell_type": "code",
   "execution_count": 56,
   "id": "9ec7da1f",
   "metadata": {},
   "outputs": [],
   "source": [
    "x_train10 = x_train50[0:10]\n",
    "x_test10 = x_test50[0:10]\n",
    "def transpose(temp):\n",
    "    temp = np.array(temp)\n",
    "    return temp.T\n",
    "\n",
    "tx_train10 = transpose(x_train10)\n",
    "tx_test10 = transpose(x_test10)\n",
    "y10 = y50\n",
    "testy10 = testy50"
   ]
  },
  {
   "cell_type": "code",
   "execution_count": 66,
   "id": "8aa8c40c",
   "metadata": {},
   "outputs": [
    {
     "data": {
      "text/plain": [
       "10"
      ]
     },
     "execution_count": 66,
     "metadata": {},
     "output_type": "execute_result"
    }
   ],
   "source": [
    "len(x_train10)"
   ]
  },
  {
   "cell_type": "code",
   "execution_count": 68,
   "id": "6cf25d3d",
   "metadata": {},
   "outputs": [
    {
     "data": {
      "text/plain": [
       "10"
      ]
     },
     "execution_count": 68,
     "metadata": {},
     "output_type": "execute_result"
    }
   ],
   "source": [
    "len(tx_train10[0])"
   ]
  },
  {
   "cell_type": "code",
   "execution_count": 69,
   "id": "f2d7d5ea",
   "metadata": {},
   "outputs": [
    {
     "data": {
      "text/plain": [
       "array([[ 2.50967214e+00, -1.98170084e+00, -1.45372955e+00, ...,\n",
       "         7.76461205e-02, -4.35278038e-02, -3.44181270e-02],\n",
       "       [ 1.99454912e+00, -1.98467375e+00, -1.97479838e+00, ...,\n",
       "         1.75184095e-03, -6.15945209e-02,  8.54275251e-02],\n",
       "       [ 3.84856820e+00, -2.38127523e+00, -9.13982269e-01, ...,\n",
       "         3.43098666e-02,  1.30678149e-01,  1.31293912e-01],\n",
       "       ...,\n",
       "       [ 3.17230783e+00, -2.13420211e+00, -1.09609639e+00, ...,\n",
       "         1.55360602e-01,  5.83942086e-02, -2.90143471e-02],\n",
       "       [ 3.41266284e+00, -2.68333542e+00, -1.95400799e+00, ...,\n",
       "         1.30632584e-01,  8.17604259e-02,  5.57163985e-04],\n",
       "       [ 2.19201317e+00, -3.40704009e+00, -4.62206701e+00, ...,\n",
       "        -6.21483419e-03,  2.26876859e-02,  1.70278494e-02]])"
      ]
     },
     "execution_count": 69,
     "metadata": {},
     "output_type": "execute_result"
    }
   ],
   "source": [
    "tx_train10"
   ]
  },
  {
   "cell_type": "code",
   "execution_count": 70,
   "id": "d163e4f9",
   "metadata": {},
   "outputs": [
    {
     "data": {
      "text/plain": [
       "array([[ 2.50967214e+00,  1.99454912e+00,  3.84856820e+00, ...,\n",
       "         3.17230783e+00,  3.41266284e+00,  2.19201317e+00],\n",
       "       [-1.98170084e+00, -1.98467375e+00, -2.38127523e+00, ...,\n",
       "        -2.13420211e+00, -2.68333542e+00, -3.40704009e+00],\n",
       "       [-1.45372955e+00, -1.97479838e+00, -9.13982269e-01, ...,\n",
       "        -1.09609639e+00, -1.95400799e+00, -4.62206701e+00],\n",
       "       ...,\n",
       "       [ 7.76461205e-02,  1.75184095e-03,  3.43098666e-02, ...,\n",
       "         1.55360602e-01,  1.30632584e-01, -6.21483419e-03],\n",
       "       [-4.35278038e-02, -6.15945209e-02,  1.30678149e-01, ...,\n",
       "         5.83942086e-02,  8.17604259e-02,  2.26876859e-02],\n",
       "       [-3.44181270e-02,  8.54275251e-02,  1.31293912e-01, ...,\n",
       "        -2.90143471e-02,  5.57163985e-04,  1.70278494e-02]])"
      ]
     },
     "execution_count": 70,
     "metadata": {},
     "output_type": "execute_result"
    }
   ],
   "source": [
    "tx_train10.T"
   ]
  },
  {
   "cell_type": "code",
   "execution_count": 71,
   "id": "730374c7",
   "metadata": {},
   "outputs": [
    {
     "data": {
      "text/plain": [
       "(10000, 10)"
      ]
     },
     "execution_count": 71,
     "metadata": {},
     "output_type": "execute_result"
    }
   ],
   "source": [
    "tx_train10.shape"
   ]
  },
  {
   "cell_type": "code",
   "execution_count": 81,
   "id": "9320dfff",
   "metadata": {},
   "outputs": [
    {
     "data": {
      "text/plain": [
       "[array([2.50967214, 1.99454912, 3.8485682 , ..., 3.17230783, 3.41266284,\n",
       "        2.19201317]),\n",
       " array([-1.98170084, -1.98467375, -2.38127523, ..., -2.13420211,\n",
       "        -2.68333542, -3.40704009]),\n",
       " array([-1.45372955, -1.97479838, -0.91398227, ..., -1.09609639,\n",
       "        -1.95400799, -4.62206701]),\n",
       " array([3.34859077e-04, 2.34893939e-04, 1.45370803e-01, ...,\n",
       "        1.80102072e-02, 4.66947294e-01, 1.97976180e+00]),\n",
       " array([1, 1, 1, ..., 1, 1, 1]),\n",
       " array([ 0.01609807, -0.00767868, -0.14272354, ...,  0.22147784,\n",
       "         0.11132392,  0.113467  ]),\n",
       " array([-0.15014972, -0.02936114, -0.13187413, ..., -0.09220334,\n",
       "         0.00790763, -0.18770291]),\n",
       " array([ 0.07764612,  0.00175184,  0.03430987, ...,  0.1553606 ,\n",
       "         0.13063258, -0.00621483]),\n",
       " array([-0.0435278 , -0.06159452,  0.13067815, ...,  0.05839421,\n",
       "         0.08176043,  0.02268769]),\n",
       " array([-0.03441813,  0.08542753,  0.13129391, ..., -0.02901435,\n",
       "         0.00055716,  0.01702785])]"
      ]
     },
     "execution_count": 81,
     "metadata": {},
     "output_type": "execute_result"
    }
   ],
   "source": [
    "x_train10"
   ]
  },
  {
   "cell_type": "code",
   "execution_count": 113,
   "id": "da82564a",
   "metadata": {},
   "outputs": [
    {
     "name": "stdout",
     "output_type": "stream",
     "text": [
      "Number of features:  30\n",
      "defaultdict(<class 'int'>, {})\n"
     ]
    },
    {
     "ename": "AttributeError",
     "evalue": "'collections.defaultdict' object has no attribute 'add'",
     "output_type": "error",
     "traceback": [
      "\u001b[1;31m---------------------------------------------------------------------------\u001b[0m",
      "\u001b[1;31mAttributeError\u001b[0m                            Traceback (most recent call last)",
      "\u001b[1;32m~\\AppData\\Local\\Temp/ipykernel_10780/3868177886.py\u001b[0m in \u001b[0;36m<module>\u001b[1;34m\u001b[0m\n\u001b[0;32m      4\u001b[0m     \u001b[0mx\u001b[0m\u001b[1;33m,\u001b[0m \u001b[0m_\u001b[0m\u001b[1;33m,\u001b[0m \u001b[0my\u001b[0m \u001b[1;33m=\u001b[0m \u001b[0mgenerate_data\u001b[0m\u001b[1;33m(\u001b[0m\u001b[1;36m10000\u001b[0m\u001b[1;33m,\u001b[0m \u001b[0mi\u001b[0m\u001b[1;33m)\u001b[0m\u001b[1;33m\u001b[0m\u001b[1;33m\u001b[0m\u001b[0m\n\u001b[0;32m      5\u001b[0m     \u001b[0mprint\u001b[0m\u001b[1;33m(\u001b[0m\u001b[1;34m'Number of features: '\u001b[0m\u001b[1;33m,\u001b[0m \u001b[0mi\u001b[0m\u001b[1;33m)\u001b[0m\u001b[1;33m\u001b[0m\u001b[1;33m\u001b[0m\u001b[0m\n\u001b[1;32m----> 6\u001b[1;33m     \u001b[0mdt\u001b[0m \u001b[1;33m=\u001b[0m \u001b[0mDecisionTree\u001b[0m\u001b[1;33m(\u001b[0m\u001b[0mcopy\u001b[0m\u001b[1;33m.\u001b[0m\u001b[0mdeepcopy\u001b[0m\u001b[1;33m(\u001b[0m\u001b[0mx\u001b[0m\u001b[1;33m)\u001b[0m\u001b[1;33m,\u001b[0m \u001b[0mcopy\u001b[0m\u001b[1;33m.\u001b[0m\u001b[0mdeepcopy\u001b[0m\u001b[1;33m(\u001b[0m\u001b[0my\u001b[0m\u001b[1;33m)\u001b[0m\u001b[1;33m,\u001b[0m \u001b[1;36m1\u001b[0m\u001b[1;33m,\u001b[0m \u001b[1;36m15\u001b[0m\u001b[1;33m,\u001b[0m \u001b[1;36m6\u001b[0m\u001b[1;33m)\u001b[0m\u001b[1;33m\u001b[0m\u001b[1;33m\u001b[0m\u001b[0m\n\u001b[0m\u001b[0;32m      7\u001b[0m     \u001b[0mprint\u001b[0m\u001b[1;33m(\u001b[0m\u001b[0msuperfluous\u001b[0m\u001b[1;33m)\u001b[0m\u001b[1;33m\u001b[0m\u001b[1;33m\u001b[0m\u001b[0m\n\u001b[0;32m      8\u001b[0m     \u001b[0msuperfluous\u001b[0m\u001b[1;33m.\u001b[0m\u001b[0mclear\u001b[0m\u001b[1;33m(\u001b[0m\u001b[1;33m)\u001b[0m\u001b[1;33m\u001b[0m\u001b[1;33m\u001b[0m\u001b[0m\n",
      "\u001b[1;32m~\\AppData\\Local\\Temp/ipykernel_10780/1150649286.py\u001b[0m in \u001b[0;36m__init__\u001b[1;34m(self, x, y, d, max_depth, min_sample_size)\u001b[0m\n\u001b[0;32m     18\u001b[0m \u001b[1;33m\u001b[0m\u001b[0m\n\u001b[0;32m     19\u001b[0m         \u001b[1;32mif\u001b[0m \u001b[1;32mnot\u001b[0m \u001b[0mself\u001b[0m\u001b[1;33m.\u001b[0m\u001b[0mchild\u001b[0m\u001b[1;33m:\u001b[0m\u001b[1;33m\u001b[0m\u001b[1;33m\u001b[0m\u001b[0m\n\u001b[1;32m---> 20\u001b[1;33m             \u001b[0mself\u001b[0m\u001b[1;33m.\u001b[0m\u001b[0msplit\u001b[0m\u001b[1;33m(\u001b[0m\u001b[1;33m)\u001b[0m\u001b[1;33m\u001b[0m\u001b[1;33m\u001b[0m\u001b[0m\n\u001b[0m\u001b[0;32m     21\u001b[0m \u001b[1;33m\u001b[0m\u001b[0m\n\u001b[0;32m     22\u001b[0m     \u001b[1;32mdef\u001b[0m \u001b[0mfind_best_feature\u001b[0m\u001b[1;33m(\u001b[0m\u001b[0mself\u001b[0m\u001b[1;33m)\u001b[0m\u001b[1;33m:\u001b[0m\u001b[1;33m\u001b[0m\u001b[1;33m\u001b[0m\u001b[0m\n",
      "\u001b[1;32m~\\AppData\\Local\\Temp/ipykernel_10780/1150649286.py\u001b[0m in \u001b[0;36msplit\u001b[1;34m(self)\u001b[0m\n\u001b[0;32m     56\u001b[0m     \u001b[1;32mdef\u001b[0m \u001b[0msplit\u001b[0m\u001b[1;33m(\u001b[0m\u001b[0mself\u001b[0m\u001b[1;33m)\u001b[0m\u001b[1;33m:\u001b[0m\u001b[1;33m\u001b[0m\u001b[1;33m\u001b[0m\u001b[0m\n\u001b[0;32m     57\u001b[0m         \u001b[0mself\u001b[0m\u001b[1;33m.\u001b[0m\u001b[0mind\u001b[0m \u001b[1;33m=\u001b[0m \u001b[0mself\u001b[0m\u001b[1;33m.\u001b[0m\u001b[0mfind_best_feature\u001b[0m\u001b[1;33m(\u001b[0m\u001b[1;33m)\u001b[0m\u001b[1;33m\u001b[0m\u001b[1;33m\u001b[0m\u001b[0m\n\u001b[1;32m---> 58\u001b[1;33m         \u001b[0msuperfluous\u001b[0m\u001b[1;33m.\u001b[0m\u001b[0madd\u001b[0m\u001b[1;33m(\u001b[0m\u001b[0mself\u001b[0m\u001b[1;33m.\u001b[0m\u001b[0mind\u001b[0m\u001b[1;33m)\u001b[0m\u001b[1;33m\u001b[0m\u001b[1;33m\u001b[0m\u001b[0m\n\u001b[0m\u001b[0;32m     59\u001b[0m \u001b[1;33m\u001b[0m\u001b[0m\n\u001b[0;32m     60\u001b[0m         \u001b[0mself\u001b[0m\u001b[1;33m.\u001b[0m\u001b[0mthreshold\u001b[0m \u001b[1;33m=\u001b[0m \u001b[0mself\u001b[0m\u001b[1;33m.\u001b[0m\u001b[0mfind_threshold_split\u001b[0m\u001b[1;33m(\u001b[0m\u001b[0mself\u001b[0m\u001b[1;33m.\u001b[0m\u001b[0mind\u001b[0m\u001b[1;33m)\u001b[0m\u001b[1;33m\u001b[0m\u001b[1;33m\u001b[0m\u001b[0m\n",
      "\u001b[1;31mAttributeError\u001b[0m: 'collections.defaultdict' object has no attribute 'add'"
     ]
    }
   ],
   "source": [
    "superfluous = defaultdict(int)\n",
    "iteration = 0\n",
    "for i in range(30, 50):\n",
    "    x, _, y = generate_data(10000, i)\n",
    "    print('Number of features: ', i)\n",
    "    dt = DecisionTree(copy.deepcopy(x), copy.deepcopy(y), 1, 15, 6)\n",
    "    print(superfluous)\n",
    "    superfluous.clear()"
   ]
  },
  {
   "cell_type": "code",
   "execution_count": null,
   "id": "194c66c3",
   "metadata": {},
   "outputs": [],
   "source": []
  }
 ],
 "metadata": {
  "kernelspec": {
   "display_name": "Python 3 (ipykernel)",
   "language": "python",
   "name": "python3"
  },
  "language_info": {
   "codemirror_mode": {
    "name": "ipython",
    "version": 3
   },
   "file_extension": ".py",
   "mimetype": "text/x-python",
   "name": "python",
   "nbconvert_exporter": "python",
   "pygments_lexer": "ipython3",
   "version": "3.9.7"
  }
 },
 "nbformat": 4,
 "nbformat_minor": 5
}
