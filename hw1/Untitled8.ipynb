{
 "cells": [
  {
   "cell_type": "code",
   "execution_count": 1,
   "id": "0be1be86",
   "metadata": {},
   "outputs": [
    {
     "data": {
      "text/plain": [
       "{'divide': 'warn', 'over': 'warn', 'under': 'ignore', 'invalid': 'warn'}"
      ]
     },
     "execution_count": 1,
     "metadata": {},
     "output_type": "execute_result"
    }
   ],
   "source": [
    "import math\n",
    "import numpy as np\n",
    "from collections import defaultdict\n",
    "import matplotlib.pyplot as plt\n",
    "import copy\n",
    "np.seterr(all='raise')"
   ]
  },
  {
   "cell_type": "code",
   "execution_count": 2,
   "id": "148c350b",
   "metadata": {},
   "outputs": [],
   "source": [
    "def cov(x, y):\n",
    "    #definition of cov(x, y) = E[xy] - E[x]E[y]\n",
    "    return np.mean(x * y) - np.mean(x) * np.mean(y)\n",
    "\n",
    "def corr(x, y):\n",
    "    #corr(x, y) = cov(x, y) / sqrt(var(x) * var(y))\n",
    "    #var(y) == 0 --> this edge case is checked in the decision tree algorithm\n",
    "    #var(y) == 0 --> implies very high correlation in that set of data\n",
    "    #var(x) == 0 --> implies very low correlation in that set of data (hence we return 0 on this)\n",
    "    if np.var(x) == 0:\n",
    "        return 0\n",
    "    return cov(x, y) / math.sqrt(np.var(x) * np.var(y))\n",
    "\n",
    "def generate_data(size, d):\n",
    "    x = []\n",
    "    x.append(np.random.normal(3, 1, size))\n",
    "    x.append(np.random.normal(-2, 1, size))\n",
    "    x.append(x[0] + 2 * x[1])\n",
    "    x.append((x[1] + 2)**2)\n",
    "    x.append(np.random.binomial(n=1, p=0.8, size=size))\n",
    "    for _ in range(d - 5):\n",
    "        x.append(np.random.normal(0, 0.1, size))\n",
    "\n",
    "    def compute_y(x):\n",
    "        y = 4 - 3 * x[0] * x[0] + x[2] - 0.01 * x[3] + x[1] * x[4] + np.random.normal(0, 0.1, len(x[0]))\n",
    "        return y\n",
    "    \n",
    "    def transpose(temp):\n",
    "        temp = np.array(temp)\n",
    "        return temp.T\n",
    "    \n",
    "    xt = transpose(x)\n",
    "    y = compute_y(x)\n",
    "    \n",
    "    return x, xt, y"
   ]
  },
  {
   "cell_type": "code",
   "execution_count": 7,
   "id": "23870915",
   "metadata": {},
   "outputs": [],
   "source": [
    "class DecisionTree():   \n",
    "    def __init__(self, x, y, d, max_depth, min_sample_size):\n",
    "        self.x = x\n",
    "        self.y = y\n",
    "        \n",
    "        self.max_depth = max_depth\n",
    "        self.min_sample_size = min_sample_size\n",
    "        self.depth = d \n",
    "        self.child = len(self.x[0]) <= self.min_sample_size or self.depth == self.max_depth or np.var(y) == 0\n",
    "        \n",
    "        self.ind = -1\n",
    "        self.threshold = 0\n",
    "        \n",
    "        self.result = np.mean(y)\n",
    "        self.left, self.right = None, None\n",
    "\n",
    "        if not self.child:\n",
    "            self.split()\n",
    "    \n",
    "    def find_best_feature(self):\n",
    "        all_corr = [abs(corr(xi, self.y)) for xi in self.x]\n",
    "        return np.argmax(all_corr)\n",
    "    \n",
    "    def find_threshold_split(self, ind):\n",
    "        indices = self.x[ind].argsort()\n",
    "        \n",
    "        for i in range(len(self.x)):\n",
    "            self.x[i] = self.x[i][indices]\n",
    "        self.y = self.y[indices]\n",
    "        \n",
    "        threshold = -1\n",
    "        mn = float('inf')\n",
    "\n",
    "        for i in range(len(self.y) - 1):\n",
    "            fltr_left = self.x[ind] <= self.x[ind][i]\n",
    "            fltr_right = self.x[ind] > self.x[ind][i]\n",
    "            \n",
    "            left = np.sum(fltr_left)\n",
    "            right = np.sum(fltr_right)              \n",
    "            \n",
    "            var_left = np.var(self.y[fltr_left])\n",
    "            var_right = 0 if right == 0 else np.var(self.y[fltr_right]) \n",
    "\n",
    "            err_left = left / len(self.y) * var_left\n",
    "            err_right = right / len(self.y) * var_right\n",
    "            \n",
    "            err = err_left + err_right\n",
    "            \n",
    "            if err < mn:\n",
    "                threshold, mn = (self.x[ind][i] + self.x[ind][i + 1]) / 2, err\n",
    "        return threshold\n",
    "    \n",
    "     \n",
    "    def split(self):\n",
    "        self.ind = self.find_best_feature()\n",
    "        if self.ind > 4:\n",
    "            superfluous[self.ind] += 1\n",
    "\n",
    "        self.threshold = self.find_threshold_split(self.ind)\n",
    "\n",
    "        fltr_left = self.x[self.ind] <= self.threshold\n",
    "        fltr_right = self.x[self.ind] > self.threshold\n",
    "                \n",
    "        x_left = [arr[fltr_left] for arr in self.x]\n",
    "        x_right = [arr[fltr_right] for arr in self.x]\n",
    "            \n",
    "        y_left = self.y[fltr_left]\n",
    "        y_right = self.y[fltr_right]\n",
    "        \n",
    "        self.left = DecisionTree(x_left, y_left, self.depth + 1, self.max_depth, self.min_sample_size)\n",
    "        self.right = DecisionTree(x_right, y_right, self.depth + 1, self.max_depth, self.min_sample_size)\n",
    "\n",
    "    @staticmethod\n",
    "    def predict(node, arr):\n",
    "        if node.child:\n",
    "            return node.result\n",
    "        if arr[node.ind] <= node.threshold:\n",
    "            return DecisionTree.predict(node.left, arr)\n",
    "        else:\n",
    "            return DecisionTree.predict(node.right, arr)"
   ]
  },
  {
   "cell_type": "code",
   "execution_count": 17,
   "id": "bc32ba7d",
   "metadata": {},
   "outputs": [
    {
     "name": "stdout",
     "output_type": "stream",
     "text": [
      "Number of features:  6\n",
      "Number of features:  7\n",
      "Number of features:  8\n",
      "Number of features:  9\n",
      "Number of features:  10\n",
      "Number of features:  11\n",
      "Number of features:  12\n",
      "Number of features:  13\n",
      "Number of features:  14\n",
      "Number of features:  15\n",
      "Number of features:  16\n",
      "Number of features:  17\n",
      "Number of features:  18\n",
      "Number of features:  19\n",
      "Number of features:  20\n",
      "Number of features:  21\n",
      "Number of features:  22\n",
      "Number of features:  23\n",
      "Number of features:  24\n",
      "Number of features:  25\n",
      "Number of features:  26\n",
      "Number of features:  27\n",
      "Number of features:  28\n",
      "Number of features:  29\n",
      "Number of features:  30\n",
      "Number of features:  31\n",
      "Number of features:  32\n",
      "Number of features:  33\n",
      "Number of features:  34\n",
      "Number of features:  35\n",
      "Number of features:  36\n",
      "Number of features:  37\n",
      "Number of features:  38\n",
      "Number of features:  39\n",
      "Number of features:  40\n",
      "Number of features:  41\n",
      "Number of features:  42\n",
      "Number of features:  43\n",
      "Number of features:  44\n",
      "Number of features:  45\n",
      "Number of features:  46\n",
      "Number of features:  47\n",
      "Number of features:  48\n",
      "Number of features:  49\n"
     ]
    }
   ],
   "source": [
    "superfluous = defaultdict(int)\n",
    "sf_features = []\n",
    "indices = []\n",
    "for i in range(6, 50):\n",
    "    indices.append(i)\n",
    "    x, _, y = generate_data(10000, i)\n",
    "    print('Number of features: ', i)\n",
    "    dt = DecisionTree(copy.deepcopy(x), copy.deepcopy(y), 1, 10, 1)\n",
    "    sf_features.append(len(superfluous))\n",
    "    superfluous.clear()"
   ]
  },
  {
   "cell_type": "code",
   "execution_count": 18,
   "id": "605a931e",
   "metadata": {},
   "outputs": [
    {
     "data": {
      "image/png": "[encoded data removed]",
      "text/plain": [
       "<Figure size 432x288 with 1 Axes>"
      ]
     },
     "metadata": {
      "needs_background": "light"
     },
     "output_type": "display_data"
    }
   ],
   "source": [
    "import matplotlib.pyplot as plt\n",
    "plt.title('\"d\" value vs. Superfluous features')\n",
    "plt.xlabel('d')\n",
    "plt.ylabel('Superfluous features')\n",
    "plt.plot(indices, sf_features)\n",
    "plt.show()"
   ]
  },
  {
   "cell_type": "code",
   "execution_count": 19,
   "id": "f1f10388",
   "metadata": {},
   "outputs": [],
   "source": [
    "def question6():\n",
    "    sf_features = []\n",
    "    indices = []\n",
    "    for i in range(6, 50):\n",
    "        indices.append(i)\n",
    "        x, _, y = generate_data(10000, i)\n",
    "        #print('Number of features: ', i)\n",
    "        dt = DecisionTree(copy.deepcopy(x), copy.deepcopy(y), 1, 10, 1)\n",
    "        sf_features.append(len(superfluous))\n",
    "        superfluous.clear()\n",
    "        \n",
    "    plt.title('\"d\" value vs. Superfluous features')\n",
    "    plt.xlabel('d')\n",
    "    plt.ylabel('Superfluous features')\n",
    "    plt.plot(indices, sf_features)\n",
    "    plt.show()"
   ]
  },
  {
   "cell_type": "code",
   "execution_count": null,
   "id": "f1664723",
   "metadata": {},
   "outputs": [],
   "source": []
  }
 ],
 "metadata": {
  "kernelspec": {
   "display_name": "Python 3 (ipykernel)",
   "language": "python",
   "name": "python3"
  },
  "language_info": {
   "codemirror_mode": {
    "name": "ipython",
    "version": 3
   },
   "file_extension": ".py",
   "mimetype": "text/x-python",
   "name": "python",
   "nbconvert_exporter": "python",
   "pygments_lexer": "ipython3",
   "version": "3.9.7"
  }
 },
 "nbformat": 4,
 "nbformat_minor": 5
}
